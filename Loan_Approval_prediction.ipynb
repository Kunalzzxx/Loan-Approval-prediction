{
  "metadata": {
    "kernelspec": {
      "name": "python3",
      "display_name": "Python 3",
      "language": "python"
    },
    "language_info": {
      "name": "python",
      "version": "3.10.14",
      "mimetype": "text/x-python",
      "codemirror_mode": {
        "name": "ipython",
        "version": 3
      },
      "pygments_lexer": "ipython3",
      "nbconvert_exporter": "python",
      "file_extension": ".py"
    },
    "colab": {
      "provenance": [],
      "include_colab_link": true
    },
    "kaggle": {
      "accelerator": "none",
      "dataSources": [
        {
          "sourceId": 2047352,
          "sourceType": "datasetVersion",
          "datasetId": 1226448
        },
        {
          "sourceId": 10061099,
          "sourceType": "datasetVersion",
          "datasetId": 6200162
        }
      ],
      "dockerImageVersionId": 30786,
      "isInternetEnabled": false,
      "language": "python",
      "sourceType": "notebook",
      "isGpuEnabled": false
    }
  },
  "nbformat_minor": 0,
  "nbformat": 4,
  "cells": [
    {
      "cell_type": "markdown",
      "metadata": {
        "id": "view-in-github",
        "colab_type": "text"
      },
      "source": [
        "<a href=\"https://colab.research.google.com/github/Kunalzzxx/Loan-Approval-prediction/blob/main/Loan_Approval_prediction.ipynb\" target=\"_parent\"><img src=\"https://colab.research.google.com/assets/colab-badge.svg\" alt=\"Open In Colab\"/></a>"
      ]
    },
    {
      "source": [
        "\n",
        "import kagglehub\n",
        "sonalisingh1411_loan_approval_prediction_path = kagglehub.dataset_download('sonalisingh1411/loan-approval-prediction')\n",
        "ramiabdullah_loan_approval_prediction_project_image_path = kagglehub.dataset_download('ramiabdullah/loan-approval-prediction-project-image')\n",
        "\n",
        "print('Data source import complete.')\n"
      ],
      "metadata": {
        "id": "lh81O70HWHjY"
      },
      "cell_type": "code",
      "outputs": [],
      "execution_count": null
    },
    {
      "cell_type": "code",
      "source": [
        "from IPython.display import Image\n",
        "\n",
        "\n",
        "Image(filename='/kaggle/input/loan-approval-prediction-project-image/Loan_Approval_Prediction_Project_image.jpg')"
      ],
      "metadata": {
        "trusted": true,
        "execution": {
          "iopub.status.busy": "2024-12-02T14:23:11.359822Z",
          "iopub.execute_input": "2024-12-02T14:23:11.360235Z",
          "iopub.status.idle": "2024-12-02T14:23:11.37625Z",
          "shell.execute_reply.started": "2024-12-02T14:23:11.3602Z",
          "shell.execute_reply": "2024-12-02T14:23:11.375281Z"
        },
        "id": "vaL7F-37WHjc"
      },
      "outputs": [],
      "execution_count": null
    },
    {
      "cell_type": "code",
      "source": [
        "import numpy as np\n",
        "import pandas as pd\n",
        "import seaborn as sns\n",
        "import matplotlib.pyplot as plt"
      ],
      "metadata": {
        "id": "botDmFA-SN_e",
        "trusted": true,
        "execution": {
          "iopub.status.busy": "2024-12-02T14:23:11.377892Z",
          "iopub.execute_input": "2024-12-02T14:23:11.378218Z",
          "iopub.status.idle": "2024-12-02T14:23:11.383059Z",
          "shell.execute_reply.started": "2024-12-02T14:23:11.378186Z",
          "shell.execute_reply": "2024-12-02T14:23:11.382006Z"
        }
      },
      "outputs": [],
      "execution_count": null
    },
    {
      "cell_type": "markdown",
      "source": [
        "\n",
        "\n",
        "---\n"
      ],
      "metadata": {
        "id": "ke8LQXVhZE2I"
      }
    },
    {
      "cell_type": "code",
      "source": [
        "df = pd.read_csv('/kaggle/input/loan-approval-prediction/Training Dataset.csv')\n",
        "df_test = pd.read_csv('/kaggle/input/loan-approval-prediction/Test Dataset.csv')"
      ],
      "metadata": {
        "id": "gjaGvLmESCJc",
        "trusted": true,
        "execution": {
          "iopub.status.busy": "2024-12-02T14:23:11.384219Z",
          "iopub.execute_input": "2024-12-02T14:23:11.384508Z",
          "iopub.status.idle": "2024-12-02T14:23:11.404842Z",
          "shell.execute_reply.started": "2024-12-02T14:23:11.38448Z",
          "shell.execute_reply": "2024-12-02T14:23:11.403971Z"
        }
      },
      "outputs": [],
      "execution_count": null
    },
    {
      "cell_type": "code",
      "source": [
        "df.head()"
      ],
      "metadata": {
        "id": "ugGxsFUkMknu",
        "trusted": true,
        "execution": {
          "iopub.status.busy": "2024-12-02T14:23:11.406272Z",
          "iopub.execute_input": "2024-12-02T14:23:11.406575Z",
          "iopub.status.idle": "2024-12-02T14:23:11.422545Z",
          "shell.execute_reply.started": "2024-12-02T14:23:11.406541Z",
          "shell.execute_reply": "2024-12-02T14:23:11.42146Z"
        }
      },
      "outputs": [],
      "execution_count": null
    },
    {
      "cell_type": "code",
      "source": [
        "df_test.head()"
      ],
      "metadata": {
        "id": "-Afp80a_Tg_Z",
        "trusted": true,
        "execution": {
          "iopub.status.busy": "2024-12-02T14:23:11.426312Z",
          "iopub.execute_input": "2024-12-02T14:23:11.426635Z",
          "iopub.status.idle": "2024-12-02T14:23:11.442096Z",
          "shell.execute_reply.started": "2024-12-02T14:23:11.426603Z",
          "shell.execute_reply": "2024-12-02T14:23:11.441081Z"
        }
      },
      "outputs": [],
      "execution_count": null
    },
    {
      "cell_type": "markdown",
      "source": [
        "\n",
        "\n",
        "---\n"
      ],
      "metadata": {
        "id": "T7VfR8bDZGGM"
      }
    },
    {
      "cell_type": "code",
      "source": [
        "df.info()"
      ],
      "metadata": {
        "id": "4Qg55gE3V6wi",
        "trusted": true,
        "execution": {
          "iopub.status.busy": "2024-12-02T14:23:11.44508Z",
          "iopub.execute_input": "2024-12-02T14:23:11.445433Z",
          "iopub.status.idle": "2024-12-02T14:23:11.458203Z",
          "shell.execute_reply.started": "2024-12-02T14:23:11.445399Z",
          "shell.execute_reply": "2024-12-02T14:23:11.457201Z"
        }
      },
      "outputs": [],
      "execution_count": null
    },
    {
      "cell_type": "code",
      "source": [
        "df_test.info()"
      ],
      "metadata": {
        "id": "ZWIigc26Tp0V",
        "trusted": true,
        "execution": {
          "iopub.status.busy": "2024-12-02T14:23:11.465989Z",
          "iopub.execute_input": "2024-12-02T14:23:11.466816Z",
          "iopub.status.idle": "2024-12-02T14:23:11.477419Z",
          "shell.execute_reply.started": "2024-12-02T14:23:11.466778Z",
          "shell.execute_reply": "2024-12-02T14:23:11.476199Z"
        }
      },
      "outputs": [],
      "execution_count": null
    },
    {
      "cell_type": "code",
      "source": [
        "df.describe()"
      ],
      "metadata": {
        "id": "tf0PpUt9WYN6",
        "trusted": true,
        "execution": {
          "iopub.status.busy": "2024-12-02T14:23:11.529499Z",
          "iopub.execute_input": "2024-12-02T14:23:11.53046Z",
          "iopub.status.idle": "2024-12-02T14:23:11.554919Z",
          "shell.execute_reply.started": "2024-12-02T14:23:11.530413Z",
          "shell.execute_reply": "2024-12-02T14:23:11.553915Z"
        }
      },
      "outputs": [],
      "execution_count": null
    },
    {
      "cell_type": "code",
      "source": [
        "df.shape"
      ],
      "metadata": {
        "id": "SQhziMPaM7W1",
        "trusted": true,
        "execution": {
          "iopub.status.busy": "2024-12-02T14:23:11.556588Z",
          "iopub.execute_input": "2024-12-02T14:23:11.556906Z",
          "iopub.status.idle": "2024-12-02T14:23:11.562966Z",
          "shell.execute_reply.started": "2024-12-02T14:23:11.556875Z",
          "shell.execute_reply": "2024-12-02T14:23:11.561899Z"
        }
      },
      "outputs": [],
      "execution_count": null
    },
    {
      "cell_type": "code",
      "source": [
        "df.columns"
      ],
      "metadata": {
        "id": "kf31I351M--z",
        "trusted": true,
        "execution": {
          "iopub.status.busy": "2024-12-02T14:23:11.56404Z",
          "iopub.execute_input": "2024-12-02T14:23:11.564312Z",
          "iopub.status.idle": "2024-12-02T14:23:11.577946Z",
          "shell.execute_reply.started": "2024-12-02T14:23:11.564284Z",
          "shell.execute_reply": "2024-12-02T14:23:11.57678Z"
        }
      },
      "outputs": [],
      "execution_count": null
    },
    {
      "cell_type": "markdown",
      "source": [
        "##**Correcting Data Types in `df_test`**"
      ],
      "metadata": {
        "id": "2q88XQcSWd8-"
      }
    },
    {
      "cell_type": "code",
      "source": [
        "columns_to_convert = ['CoapplicantIncome', 'Loan_Amount_Term']\n",
        "\n",
        "df_test[columns_to_convert] = df_test[columns_to_convert].astype(float)"
      ],
      "metadata": {
        "id": "QRE8GzsKUTnf",
        "trusted": true,
        "execution": {
          "iopub.status.busy": "2024-12-02T14:23:11.579857Z",
          "iopub.execute_input": "2024-12-02T14:23:11.580225Z",
          "iopub.status.idle": "2024-12-02T14:23:11.589624Z",
          "shell.execute_reply.started": "2024-12-02T14:23:11.580193Z",
          "shell.execute_reply": "2024-12-02T14:23:11.588718Z"
        }
      },
      "outputs": [],
      "execution_count": null
    },
    {
      "cell_type": "code",
      "source": [
        "df_test.info()"
      ],
      "metadata": {
        "id": "LgOjxtJYUkOE",
        "trusted": true,
        "execution": {
          "iopub.status.busy": "2024-12-02T14:23:11.591328Z",
          "iopub.execute_input": "2024-12-02T14:23:11.591683Z",
          "iopub.status.idle": "2024-12-02T14:23:11.606659Z",
          "shell.execute_reply.started": "2024-12-02T14:23:11.591648Z",
          "shell.execute_reply": "2024-12-02T14:23:11.605646Z"
        }
      },
      "outputs": [],
      "execution_count": null
    },
    {
      "cell_type": "markdown",
      "source": [
        "\n",
        "\n",
        "---\n"
      ],
      "metadata": {
        "id": "Yz1DNb2tZHjW"
      }
    },
    {
      "cell_type": "markdown",
      "source": [
        "## **Handling Missing Values**\n",
        "\n",
        "### ❐ Displaying Missing Values\n",
        "\n",
        "    This shows the missing values in each column."
      ],
      "metadata": {
        "id": "oMZ0QYwZWs0_"
      }
    },
    {
      "cell_type": "code",
      "source": [
        "missing_values = df.isnull().sum()\n",
        "missing_columns = missing_values[missing_values > 0]\n",
        "missing_columns"
      ],
      "metadata": {
        "id": "kUuOodBXNk2e",
        "trusted": true,
        "execution": {
          "iopub.status.busy": "2024-12-02T14:23:11.619815Z",
          "iopub.execute_input": "2024-12-02T14:23:11.620191Z",
          "iopub.status.idle": "2024-12-02T14:23:11.629085Z",
          "shell.execute_reply.started": "2024-12-02T14:23:11.620158Z",
          "shell.execute_reply": "2024-12-02T14:23:11.628123Z"
        }
      },
      "outputs": [],
      "execution_count": null
    },
    {
      "cell_type": "code",
      "source": [
        "missing_values = df_test.isnull().sum()\n",
        "missing_columns = missing_values[missing_values > 0]\n",
        "missing_columns"
      ],
      "metadata": {
        "id": "emaCH42nYJR4",
        "trusted": true,
        "execution": {
          "iopub.status.busy": "2024-12-02T14:23:11.634195Z",
          "iopub.execute_input": "2024-12-02T14:23:11.634546Z",
          "iopub.status.idle": "2024-12-02T14:23:11.644824Z",
          "shell.execute_reply.started": "2024-12-02T14:23:11.634515Z",
          "shell.execute_reply": "2024-12-02T14:23:11.643769Z"
        }
      },
      "outputs": [],
      "execution_count": null
    },
    {
      "cell_type": "markdown",
      "source": [
        "---\n",
        "### ❐ Filling Null Values"
      ],
      "metadata": {
        "id": "6jbGXUoTaOTu"
      }
    },
    {
      "cell_type": "markdown",
      "source": [
        "- Fill missing values for categorical columns using the most common value.\n",
        "\n",
        " ⭣"
      ],
      "metadata": {
        "id": "NxyydS1odXSK"
      }
    },
    {
      "cell_type": "code",
      "source": [
        "df['Gender'] = df['Gender'].fillna(df['Gender'].mode()[0])\n",
        "df['Married'] = df['Married'].fillna(df['Married'].mode()[0])\n",
        "df['Dependents'] = df['Dependents'].fillna(df['Dependents'].mode()[0])\n",
        "df['Self_Employed'] = df['Self_Employed'].fillna(df['Self_Employed'].mode()[0])"
      ],
      "metadata": {
        "id": "H4Whllk7bYEn",
        "trusted": true,
        "execution": {
          "iopub.status.busy": "2024-12-02T14:23:11.647685Z",
          "iopub.execute_input": "2024-12-02T14:23:11.6486Z",
          "iopub.status.idle": "2024-12-02T14:23:11.66112Z",
          "shell.execute_reply.started": "2024-12-02T14:23:11.648566Z",
          "shell.execute_reply": "2024-12-02T14:23:11.660255Z"
        }
      },
      "outputs": [],
      "execution_count": null
    },
    {
      "cell_type": "code",
      "source": [
        "df_test['Gender'] = df_test['Gender'].fillna(df_test['Gender'].mode()[0])\n",
        "df_test['Dependents'] = df_test['Dependents'].fillna(df_test['Dependents'].mode()[0])\n",
        "df_test['Self_Employed'] = df_test['Self_Employed'].fillna(df_test['Self_Employed'].mode()[0])"
      ],
      "metadata": {
        "id": "S-g8O7C0XpZL",
        "trusted": true,
        "execution": {
          "iopub.status.busy": "2024-12-02T14:23:11.885084Z",
          "iopub.execute_input": "2024-12-02T14:23:11.885508Z",
          "iopub.status.idle": "2024-12-02T14:23:11.894466Z",
          "shell.execute_reply.started": "2024-12-02T14:23:11.885469Z",
          "shell.execute_reply": "2024-12-02T14:23:11.893409Z"
        }
      },
      "outputs": [],
      "execution_count": null
    },
    {
      "cell_type": "markdown",
      "source": [
        "- Fill missing values for numerical columns.\n",
        "\n",
        " ⭣"
      ],
      "metadata": {
        "id": "GY0Mdis0dky9"
      }
    },
    {
      "cell_type": "code",
      "source": [
        "df['LoanAmount'] = df['LoanAmount'].fillna(df['LoanAmount'].median())\n",
        "df['Credit_History'] = df['Credit_History'].fillna(df['Credit_History'].mode()[0])\n",
        "df['Loan_Amount_Term'] = df['Loan_Amount_Term'].fillna(df['Loan_Amount_Term'].mode()[0])"
      ],
      "metadata": {
        "id": "1CAugUCLcdsr",
        "trusted": true,
        "execution": {
          "iopub.status.busy": "2024-12-02T14:23:11.896717Z",
          "iopub.execute_input": "2024-12-02T14:23:11.897479Z",
          "iopub.status.idle": "2024-12-02T14:23:11.91361Z",
          "shell.execute_reply.started": "2024-12-02T14:23:11.897431Z",
          "shell.execute_reply": "2024-12-02T14:23:11.912647Z"
        }
      },
      "outputs": [],
      "execution_count": null
    },
    {
      "cell_type": "code",
      "source": [
        "df_test['LoanAmount'] = df_test['LoanAmount'].fillna(df_test['LoanAmount'].median())\n",
        "df_test['Credit_History'] = df_test['Credit_History'].fillna(df_test['Credit_History'].mode()[0])\n",
        "df_test['Loan_Amount_Term'] = df_test['Loan_Amount_Term'].fillna(df_test['Loan_Amount_Term'].mode()[0])"
      ],
      "metadata": {
        "id": "Y_uwbrT6XupI",
        "trusted": true,
        "execution": {
          "iopub.status.busy": "2024-12-02T14:23:11.914835Z",
          "iopub.execute_input": "2024-12-02T14:23:11.915142Z",
          "iopub.status.idle": "2024-12-02T14:23:11.925981Z",
          "shell.execute_reply.started": "2024-12-02T14:23:11.915112Z",
          "shell.execute_reply": "2024-12-02T14:23:11.925056Z"
        }
      },
      "outputs": [],
      "execution_count": null
    },
    {
      "cell_type": "markdown",
      "source": [
        "- Verify that all missing values have been correctly filled.\n",
        "\n",
        " ⭣"
      ],
      "metadata": {
        "id": "6tQKb45Dd_vN"
      }
    },
    {
      "cell_type": "code",
      "source": [
        "df.isnull().sum()"
      ],
      "metadata": {
        "id": "F5atqlR0dzKo",
        "trusted": true,
        "execution": {
          "iopub.status.busy": "2024-12-02T14:23:11.927246Z",
          "iopub.execute_input": "2024-12-02T14:23:11.927587Z",
          "iopub.status.idle": "2024-12-02T14:23:11.939894Z",
          "shell.execute_reply.started": "2024-12-02T14:23:11.927544Z",
          "shell.execute_reply": "2024-12-02T14:23:11.939045Z"
        }
      },
      "outputs": [],
      "execution_count": null
    },
    {
      "cell_type": "code",
      "source": [
        "df_test.isnull().sum()"
      ],
      "metadata": {
        "id": "yD6o01J6X-Xx",
        "trusted": true,
        "execution": {
          "iopub.status.busy": "2024-12-02T14:23:11.942147Z",
          "iopub.execute_input": "2024-12-02T14:23:11.942454Z",
          "iopub.status.idle": "2024-12-02T14:23:11.955327Z",
          "shell.execute_reply.started": "2024-12-02T14:23:11.942424Z",
          "shell.execute_reply": "2024-12-02T14:23:11.954264Z"
        }
      },
      "outputs": [],
      "execution_count": null
    },
    {
      "cell_type": "markdown",
      "source": [
        "#### **❐ First section: numerical data**\n",
        "\n",
        "    Creates a new DataFrame containing only the columns with numerical values."
      ],
      "metadata": {
        "id": "-eCQeDUQioa0"
      }
    },
    {
      "cell_type": "code",
      "source": [
        "num = df.select_dtypes(include=['int64' , 'float64'])\n",
        "num"
      ],
      "metadata": {
        "id": "9NOyIvKTjGVg",
        "trusted": true,
        "execution": {
          "iopub.status.busy": "2024-12-02T14:23:11.956506Z",
          "iopub.execute_input": "2024-12-02T14:23:11.956842Z",
          "iopub.status.idle": "2024-12-02T14:23:11.977318Z",
          "shell.execute_reply.started": "2024-12-02T14:23:11.956812Z",
          "shell.execute_reply": "2024-12-02T14:23:11.976364Z"
        }
      },
      "outputs": [],
      "execution_count": null
    },
    {
      "cell_type": "markdown",
      "source": [
        "#### **❐ Second section: categorical data**\n",
        "\n",
        "    Creates a new DataFrame containing columns that represent categorical values."
      ],
      "metadata": {
        "id": "ihkzVP3Wk_f5"
      }
    },
    {
      "cell_type": "code",
      "source": [
        "for i in df.columns :\n",
        "  x = df[i].value_counts()\n",
        "  print(f'{i} = {len(x)}')"
      ],
      "metadata": {
        "id": "qPmr0oFMjaFp",
        "trusted": true,
        "execution": {
          "iopub.status.busy": "2024-12-02T14:23:11.979067Z",
          "iopub.execute_input": "2024-12-02T14:23:11.979495Z",
          "iopub.status.idle": "2024-12-02T14:23:11.997054Z",
          "shell.execute_reply.started": "2024-12-02T14:23:11.979449Z",
          "shell.execute_reply": "2024-12-02T14:23:11.995971Z"
        }
      },
      "outputs": [],
      "execution_count": null
    },
    {
      "cell_type": "code",
      "source": [
        "Cat = df[['Gender', 'Married', 'Dependents', 'Education', 'Self_Employed', 'Loan_Amount_Term', 'Credit_History', 'Property_Area', 'Loan_Status']]\n",
        "Cat"
      ],
      "metadata": {
        "id": "1wFPpJNujiMk",
        "trusted": true,
        "execution": {
          "iopub.status.busy": "2024-12-02T14:23:11.998587Z",
          "iopub.execute_input": "2024-12-02T14:23:11.998913Z",
          "iopub.status.idle": "2024-12-02T14:23:12.020734Z",
          "shell.execute_reply.started": "2024-12-02T14:23:11.998882Z",
          "shell.execute_reply": "2024-12-02T14:23:12.019728Z"
        }
      },
      "outputs": [],
      "execution_count": null
    },
    {
      "cell_type": "markdown",
      "source": [
        "\n",
        "\n",
        "---\n"
      ],
      "metadata": {
        "id": "HeLcaGWHlfye"
      }
    },
    {
      "cell_type": "code",
      "source": [
        "Cor = num.corr()\n",
        "Cor"
      ],
      "metadata": {
        "id": "JmcNkZ7OmQ4c",
        "trusted": true,
        "execution": {
          "iopub.status.busy": "2024-12-02T14:23:12.021835Z",
          "iopub.execute_input": "2024-12-02T14:23:12.022123Z",
          "iopub.status.idle": "2024-12-02T14:23:12.0343Z",
          "shell.execute_reply.started": "2024-12-02T14:23:12.022094Z",
          "shell.execute_reply": "2024-12-02T14:23:12.033317Z"
        }
      },
      "outputs": [],
      "execution_count": null
    },
    {
      "cell_type": "markdown",
      "source": [
        "## **🔻 Heat Map**\n",
        "\n",
        "    To visually represent the correlation matrix, a heatmap has been created to illustrate\n",
        "    the relationships between the numerical variables."
      ],
      "metadata": {
        "id": "18V1s_YuodzX"
      }
    },
    {
      "cell_type": "code",
      "source": [
        "plt.figure(figsize=(8, 6))\n",
        "sns.heatmap(Cor, annot=True, linewidths=0.6)\n",
        "plt.title('Heatmap of Correlation Matrix')\n",
        "plt.show()"
      ],
      "metadata": {
        "id": "rwC4iMYwn3mt",
        "trusted": true,
        "execution": {
          "iopub.status.busy": "2024-12-02T14:23:12.035848Z",
          "iopub.execute_input": "2024-12-02T14:23:12.036789Z",
          "iopub.status.idle": "2024-12-02T14:23:12.379369Z",
          "shell.execute_reply.started": "2024-12-02T14:23:12.036731Z",
          "shell.execute_reply": "2024-12-02T14:23:12.378392Z"
        }
      },
      "outputs": [],
      "execution_count": null
    },
    {
      "cell_type": "markdown",
      "source": [
        "## **🔻 Scatter Plots :**\n",
        "\n",
        "    Creates a scatter plot to show the relationship between the target and Numerical Data Columns.\n"
      ],
      "metadata": {
        "id": "5e1FJMJvvXJZ"
      }
    },
    {
      "cell_type": "markdown",
      "source": [
        "### 1- `Applicant Income and Loan Amount with Loan_Status`"
      ],
      "metadata": {
        "id": "lNIhC0CSv2a0"
      }
    },
    {
      "cell_type": "code",
      "source": [
        "plt.figure(figsize=(10, 6))\n",
        "sns.scatterplot(data=df, x='ApplicantIncome', y='LoanAmount', hue='Loan_Status')\n",
        "plt.title('Applicant Income vs Loan Amount by Loan Status')\n",
        "plt.xlabel('Applicant Income')\n",
        "plt.ylabel('Loan Amount')\n",
        "plt.show()"
      ],
      "metadata": {
        "id": "8IElZXt92-jp",
        "trusted": true,
        "execution": {
          "iopub.status.busy": "2024-12-02T14:23:12.38084Z",
          "iopub.execute_input": "2024-12-02T14:23:12.381259Z",
          "iopub.status.idle": "2024-12-02T14:23:12.692628Z",
          "shell.execute_reply.started": "2024-12-02T14:23:12.381213Z",
          "shell.execute_reply": "2024-12-02T14:23:12.691665Z"
        }
      },
      "outputs": [],
      "execution_count": null
    },
    {
      "cell_type": "markdown",
      "source": [
        "### 2- `Loan Amount and Credit History with Loan_Status`"
      ],
      "metadata": {
        "id": "pZZUxwBjwYf0"
      }
    },
    {
      "cell_type": "code",
      "source": [
        "plt.figure(figsize=(10, 6))\n",
        "sns.scatterplot(data=df, x='LoanAmount', y='Credit_History', hue='Loan_Status')\n",
        "plt.title('Loan Amount vs Credit History by Loan Status')\n",
        "plt.xlabel('Loan Amount')\n",
        "plt.ylabel('Credit History')\n",
        "plt.show()"
      ],
      "metadata": {
        "id": "XF_yjoyw2_E_",
        "trusted": true,
        "execution": {
          "iopub.status.busy": "2024-12-02T14:23:12.694156Z",
          "iopub.execute_input": "2024-12-02T14:23:12.694933Z",
          "iopub.status.idle": "2024-12-02T14:23:12.978657Z",
          "shell.execute_reply.started": "2024-12-02T14:23:12.694877Z",
          "shell.execute_reply": "2024-12-02T14:23:12.977672Z"
        }
      },
      "outputs": [],
      "execution_count": null
    },
    {
      "cell_type": "markdown",
      "source": [
        "### 3- `Coapplicant Income and Loan Amount Term with Loan_Status`"
      ],
      "metadata": {
        "id": "7TVd_aQnwvPP"
      }
    },
    {
      "cell_type": "code",
      "source": [
        "plt.figure(figsize=(10, 6))\n",
        "sns.scatterplot(data=df, x='CoapplicantIncome', y='Loan_Amount_Term', hue='Loan_Status')\n",
        "plt.title('Coapplicant Income vs Loan Amount Term by Loan Status')\n",
        "plt.xlabel('Coapplicant Income')\n",
        "plt.ylabel('Loan Amount Term')\n",
        "plt.show()"
      ],
      "metadata": {
        "id": "o9vaIiU92_nD",
        "trusted": true,
        "execution": {
          "iopub.status.busy": "2024-12-02T14:23:12.979949Z",
          "iopub.execute_input": "2024-12-02T14:23:12.980254Z",
          "iopub.status.idle": "2024-12-02T14:23:13.547161Z",
          "shell.execute_reply.started": "2024-12-02T14:23:12.980223Z",
          "shell.execute_reply": "2024-12-02T14:23:13.546173Z"
        }
      },
      "outputs": [],
      "execution_count": null
    },
    {
      "cell_type": "markdown",
      "source": [
        "## **🔻 Histogram**\n",
        "\n",
        "    Plots histograms for numerical data to visualize their distributions and understand the underlying frequency of the data."
      ],
      "metadata": {
        "id": "iaz-WXwm5jBw"
      }
    },
    {
      "cell_type": "code",
      "source": [
        "plt.figure(figsize=(12, 6))\n",
        "\n",
        "sns.histplot(data=df, x='ApplicantIncome', hue='Loan_Status', kde=True)\n",
        "plt.title('Histogram: Loan_Status vs ApplicantIncome')\n",
        "plt.tight_layout()\n",
        "plt.show()"
      ],
      "metadata": {
        "id": "ExFZGklqblD0",
        "trusted": true,
        "execution": {
          "iopub.status.busy": "2024-12-02T14:23:13.550739Z",
          "iopub.execute_input": "2024-12-02T14:23:13.551076Z",
          "iopub.status.idle": "2024-12-02T14:23:14.29546Z",
          "shell.execute_reply.started": "2024-12-02T14:23:13.551042Z",
          "shell.execute_reply": "2024-12-02T14:23:14.294401Z"
        }
      },
      "outputs": [],
      "execution_count": null
    },
    {
      "cell_type": "code",
      "source": [
        "plt.figure(figsize=(12, 6))\n",
        "\n",
        "sns.histplot(data=df, x='LoanAmount', hue='Loan_Status', kde=True)\n",
        "plt.title('Histogram: Loan_Status vs LoanAmount')\n",
        "plt.tight_layout()\n",
        "plt.show()"
      ],
      "metadata": {
        "id": "_4CgvCp5bvZx",
        "trusted": true,
        "execution": {
          "iopub.status.busy": "2024-12-02T14:23:14.297008Z",
          "iopub.execute_input": "2024-12-02T14:23:14.297432Z",
          "iopub.status.idle": "2024-12-02T14:23:14.803384Z",
          "shell.execute_reply.started": "2024-12-02T14:23:14.297388Z",
          "shell.execute_reply": "2024-12-02T14:23:14.802282Z"
        }
      },
      "outputs": [],
      "execution_count": null
    },
    {
      "cell_type": "markdown",
      "source": [
        "\n",
        "\n",
        "---\n"
      ],
      "metadata": {
        "id": "ZqvBD963CNYH"
      }
    },
    {
      "cell_type": "markdown",
      "source": [
        "\n",
        "# Handling Outliers\n",
        "\n",
        "#### **`Step 1: Box Plot for Numeric Columns`**\n",
        "\n",
        "- We use `boxplot` to display outliers in the numerical columns. This plot shows the distribution and outliers for each column.\n",
        "\n",
        "---"
      ],
      "metadata": {
        "id": "kTGXKT_FWzFS"
      }
    },
    {
      "cell_type": "code",
      "source": [
        "num.plot(kind=\"box\", subplots=True, layout=(2,3), figsize=(12, 10))\n",
        "plt.suptitle(\"Box Plot for Numeric Columns\")\n",
        "plt.show()"
      ],
      "metadata": {
        "id": "ll08CWXEYHjD",
        "trusted": true,
        "execution": {
          "iopub.status.busy": "2024-12-02T14:23:14.804651Z",
          "iopub.execute_input": "2024-12-02T14:23:14.805002Z",
          "iopub.status.idle": "2024-12-02T14:23:15.364325Z",
          "shell.execute_reply.started": "2024-12-02T14:23:14.804972Z",
          "shell.execute_reply": "2024-12-02T14:23:15.363241Z"
        }
      },
      "outputs": [],
      "execution_count": null
    },
    {
      "cell_type": "markdown",
      "source": [
        "\n",
        "\n",
        "---\n",
        "\n",
        "#### **`Step 2: Handling Outliers`**\n",
        "\n",
        "- We handle the outliers using the IQR (Interquartile Range) method, where we identify values that fall outside of this range and adjust them to be within the acceptable limits."
      ],
      "metadata": {
        "id": "kgYJaqXRFrsE"
      }
    },
    {
      "cell_type": "code",
      "source": [
        "Outliers_Columns = ['ApplicantIncome', 'CoapplicantIncome', 'LoanAmount']\n",
        "\n",
        "for col in Outliers_Columns:\n",
        "    Q1 = df[col].quantile(0.25)\n",
        "    Q3 = df[col].quantile(0.75)\n",
        "    IQR = Q3 - Q1\n",
        "    lower_bound = Q1 - 1.5 * IQR\n",
        "    upper_bound = Q3 + 1.5 * IQR\n",
        "\n",
        "    df[col] = np.where(df[col] < lower_bound, lower_bound, df[col])\n",
        "    df[col] = np.where(df[col] > upper_bound, upper_bound, df[col])"
      ],
      "metadata": {
        "id": "UItfmmQCH7WJ",
        "trusted": true,
        "execution": {
          "iopub.status.busy": "2024-12-02T14:23:15.36575Z",
          "iopub.execute_input": "2024-12-02T14:23:15.366152Z",
          "iopub.status.idle": "2024-12-02T14:23:15.379899Z",
          "shell.execute_reply.started": "2024-12-02T14:23:15.366109Z",
          "shell.execute_reply": "2024-12-02T14:23:15.378802Z"
        }
      },
      "outputs": [],
      "execution_count": null
    },
    {
      "cell_type": "markdown",
      "source": [
        "\n",
        "##  **🔻 Pie Charts**\n",
        "\n",
        "    To visualize the distribution of each categorical variable, pie charts will be created.\n",
        "    These charts will provide an intuitive representation of the proportions of each category within the variables.\n"
      ],
      "metadata": {
        "id": "7EpC2Y0PEW8L"
      }
    },
    {
      "cell_type": "code",
      "source": [
        "for i in Cat.columns :\n",
        "  x = Cat[i].value_counts()\n",
        "  plt.figure(figsize=(8,6))\n",
        "  plt.pie( x , labels=x.index , autopct='%1.1f%%' , wedgeprops= {'edgecolor': 'white'} )\n",
        "  plt.title(i)"
      ],
      "metadata": {
        "id": "HCpSmrl5GHTm",
        "trusted": true,
        "execution": {
          "iopub.status.busy": "2024-12-02T14:23:15.3815Z",
          "iopub.execute_input": "2024-12-02T14:23:15.381937Z",
          "iopub.status.idle": "2024-12-02T14:23:16.726763Z",
          "shell.execute_reply.started": "2024-12-02T14:23:15.381892Z",
          "shell.execute_reply": "2024-12-02T14:23:16.725774Z"
        }
      },
      "outputs": [],
      "execution_count": null
    },
    {
      "cell_type": "markdown",
      "source": [
        "\n",
        "\n",
        "---\n"
      ],
      "metadata": {
        "id": "Zy4cAQLFNfyN"
      }
    },
    {
      "cell_type": "markdown",
      "source": [
        "## **🔻 Cross-tabulation**\n",
        "## **🔻 Bar Plots**\n",
        "    ⭑ Cross-tabulation will be performed to analyze the interactions between two categorical variables.\n",
        "    This will help in understanding the joint distribution and relationships between the variables.\n",
        "\n",
        "    ⭑ Bar plots will be utilized to compare the frequencies of categories within individual variables,\n",
        "    as well as to explore relationships between two categorical variables.\n",
        "    This visualization will allow for easy comparison of counts and proportions.\n",
        "\n",
        "\n",
        "    "
      ],
      "metadata": {
        "id": "r9y1yj2gdsQP"
      }
    },
    {
      "cell_type": "code",
      "source": [
        "cancellation_comparison= pd.crosstab(df['Married'] , df['Loan_Status'])\n",
        "cancellation_comparison.plot(kind='bar', color=['#4CAF50', '#F44336'])\n",
        "plt.title('Count Plot: Loan_Status vs Married')\n",
        "plt.ylabel('count')\n",
        "plt.show()"
      ],
      "metadata": {
        "id": "yaWOZOI9cj2m",
        "trusted": true,
        "execution": {
          "iopub.status.busy": "2024-12-02T14:23:16.728685Z",
          "iopub.execute_input": "2024-12-02T14:23:16.729822Z",
          "iopub.status.idle": "2024-12-02T14:23:16.987759Z",
          "shell.execute_reply.started": "2024-12-02T14:23:16.729768Z",
          "shell.execute_reply": "2024-12-02T14:23:16.986747Z"
        }
      },
      "outputs": [],
      "execution_count": null
    },
    {
      "cell_type": "code",
      "source": [
        "cancellation_comparison= pd.crosstab(df['Education'] , df['Loan_Status'])\n",
        "cancellation_comparison.plot(kind='bar',color=['#ffbb78', '#aec7e8'])\n",
        "plt.title('Count Plot: Loan_Status vs Education')\n",
        "plt.ylabel('count')\n",
        "plt.show()"
      ],
      "metadata": {
        "id": "BJ9FIIpFdVRg",
        "trusted": true,
        "execution": {
          "iopub.status.busy": "2024-12-02T14:23:16.989277Z",
          "iopub.execute_input": "2024-12-02T14:23:16.989724Z",
          "iopub.status.idle": "2024-12-02T14:23:17.241053Z",
          "shell.execute_reply.started": "2024-12-02T14:23:16.989655Z",
          "shell.execute_reply": "2024-12-02T14:23:17.239951Z"
        }
      },
      "outputs": [],
      "execution_count": null
    },
    {
      "cell_type": "markdown",
      "source": [
        "## **🔻 Count plot**\n",
        "    \n",
        "    Creating countplots for each categorical column to analyze\n",
        "    the distribution of loan status ('Loan_Status') across different categories."
      ],
      "metadata": {
        "id": "dT13xcWENgxi"
      }
    },
    {
      "cell_type": "code",
      "source": [
        "Cat.columns"
      ],
      "metadata": {
        "id": "NCiQRTTEODxm",
        "trusted": true,
        "execution": {
          "iopub.status.busy": "2024-12-02T14:23:17.242322Z",
          "iopub.execute_input": "2024-12-02T14:23:17.242642Z",
          "iopub.status.idle": "2024-12-02T14:23:17.249175Z",
          "shell.execute_reply.started": "2024-12-02T14:23:17.242609Z",
          "shell.execute_reply": "2024-12-02T14:23:17.248186Z"
        }
      },
      "outputs": [],
      "execution_count": null
    },
    {
      "cell_type": "code",
      "source": [
        "plt.figure(figsize=(8, 6))\n",
        "sns.countplot(x='Loan_Status', hue='Gender', data=df)\n",
        "plt.title('Count Plot: Loan_Status vs Gender')\n",
        "plt.show()"
      ],
      "metadata": {
        "id": "Ns3Lvb7117Bz",
        "trusted": true,
        "execution": {
          "iopub.status.busy": "2024-12-02T14:23:17.250913Z",
          "iopub.execute_input": "2024-12-02T14:23:17.251318Z",
          "iopub.status.idle": "2024-12-02T14:23:17.490521Z",
          "shell.execute_reply.started": "2024-12-02T14:23:17.251273Z",
          "shell.execute_reply": "2024-12-02T14:23:17.489466Z"
        }
      },
      "outputs": [],
      "execution_count": null
    },
    {
      "cell_type": "code",
      "source": [
        "plt.figure(figsize=(8, 6))\n",
        "sns.countplot(x='Loan_Status', hue='Property_Area', data=df)\n",
        "plt.title('Count Plot: Loan_Status vs Property_Area')\n",
        "plt.show()"
      ],
      "metadata": {
        "id": "lH9KxCfVd9Gc",
        "trusted": true,
        "execution": {
          "iopub.status.busy": "2024-12-02T14:23:17.491725Z",
          "iopub.execute_input": "2024-12-02T14:23:17.492015Z",
          "iopub.status.idle": "2024-12-02T14:23:17.743166Z",
          "shell.execute_reply.started": "2024-12-02T14:23:17.491986Z",
          "shell.execute_reply": "2024-12-02T14:23:17.742087Z"
        }
      },
      "outputs": [],
      "execution_count": null
    },
    {
      "cell_type": "markdown",
      "source": [
        "\n",
        "\n",
        "---\n"
      ],
      "metadata": {
        "id": "Baw9f2Cciy3C"
      }
    },
    {
      "cell_type": "markdown",
      "source": [
        "\n",
        "# **Answering Business Questions Related to Data Analysis**\n"
      ],
      "metadata": {
        "id": "F3XNIcpGaCuQ"
      }
    },
    {
      "cell_type": "code",
      "source": [
        "Cor"
      ],
      "metadata": {
        "id": "RH2zOHC6kDJf",
        "trusted": true,
        "execution": {
          "iopub.status.busy": "2024-12-02T14:23:17.74463Z",
          "iopub.execute_input": "2024-12-02T14:23:17.745591Z",
          "iopub.status.idle": "2024-12-02T14:23:17.757261Z",
          "shell.execute_reply.started": "2024-12-02T14:23:17.745542Z",
          "shell.execute_reply": "2024-12-02T14:23:17.756132Z"
        }
      },
      "outputs": [],
      "execution_count": null
    },
    {
      "cell_type": "code",
      "source": [
        "sns.heatmap(Cor, annot=True)"
      ],
      "metadata": {
        "id": "xior1_ZTpvmS",
        "trusted": true,
        "execution": {
          "iopub.status.busy": "2024-12-02T14:23:17.758554Z",
          "iopub.execute_input": "2024-12-02T14:23:17.758887Z",
          "iopub.status.idle": "2024-12-02T14:23:18.116031Z",
          "shell.execute_reply.started": "2024-12-02T14:23:17.758855Z",
          "shell.execute_reply": "2024-12-02T14:23:18.115028Z"
        }
      },
      "outputs": [],
      "execution_count": null
    },
    {
      "cell_type": "code",
      "source": [
        "plt.figure(figsize=(8, 6))\n",
        "sns.scatterplot(data=df , x='ApplicantIncome', y='LoanAmount' )\n",
        "plt.title(\"Scatter plot between Applicant Income and Loan Amount\")\n",
        "plt.xlabel(\"Applicant Income\")\n",
        "plt.ylabel(\"Loan Amount\")\n",
        "plt.show()"
      ],
      "metadata": {
        "id": "tN1PDW0Qk-SP",
        "trusted": true,
        "execution": {
          "iopub.status.busy": "2024-12-02T14:23:18.117375Z",
          "iopub.execute_input": "2024-12-02T14:23:18.117728Z",
          "iopub.status.idle": "2024-12-02T14:23:18.330055Z",
          "shell.execute_reply.started": "2024-12-02T14:23:18.117672Z",
          "shell.execute_reply": "2024-12-02T14:23:18.328901Z"
        }
      },
      "outputs": [],
      "execution_count": null
    },
    {
      "cell_type": "markdown",
      "source": [
        "---\n",
        "## **Question 2 :**\n",
        "\n",
        "### What is the impact of credit history on the likelihood of loan approval?\n",
        "\n",
        "---"
      ],
      "metadata": {
        "id": "1jzQQr1WmsK4"
      }
    },
    {
      "cell_type": "code",
      "source": [
        "plt.figure(figsize=(8, 6))\n",
        "sns.countplot(x='Credit_History', hue='Loan_Status', data=df)\n",
        "plt.title(\"Loan Approval Based on Credit History\")\n",
        "plt.xlabel(\"Credit History\")\n",
        "plt.ylabel(\"Count of Loans\")\n",
        "plt.show()"
      ],
      "metadata": {
        "id": "40FRykZHmy1k",
        "trusted": true,
        "execution": {
          "iopub.status.busy": "2024-12-02T14:23:18.331448Z",
          "iopub.execute_input": "2024-12-02T14:23:18.331808Z",
          "iopub.status.idle": "2024-12-02T14:23:18.581359Z",
          "shell.execute_reply.started": "2024-12-02T14:23:18.331773Z",
          "shell.execute_reply": "2024-12-02T14:23:18.580292Z"
        }
      },
      "outputs": [],
      "execution_count": null
    },
    {
      "cell_type": "code",
      "source": [
        "credit_history_percentage = df.groupby('Credit_History')['Loan_Status'].value_counts(normalize=True) * 100\n",
        "credit_history_percentage"
      ],
      "metadata": {
        "id": "JXYTPdEfmjDU",
        "trusted": true,
        "execution": {
          "iopub.status.busy": "2024-12-02T14:23:18.582548Z",
          "iopub.execute_input": "2024-12-02T14:23:18.582877Z",
          "iopub.status.idle": "2024-12-02T14:23:18.598619Z",
          "shell.execute_reply.started": "2024-12-02T14:23:18.582847Z",
          "shell.execute_reply": "2024-12-02T14:23:18.597414Z"
        }
      },
      "outputs": [],
      "execution_count": null
    },
    {
      "cell_type": "markdown",
      "source": [
        "---\n",
        "## **Question 3 :**\n",
        "\n",
        "###  Which geographical regions have higher approval rates for loans?\n",
        "\n",
        "\n",
        "---"
      ],
      "metadata": {
        "id": "nYbLbh3_m4u4"
      }
    },
    {
      "cell_type": "code",
      "source": [
        "plt.figure(figsize=(8, 6))\n",
        "sns.countplot(x='Property_Area', hue='Loan_Status', data=df)\n",
        "plt.title(\"Loan Approval by Property Area\")\n",
        "plt.xlabel(\"Property Area\")\n",
        "plt.ylabel(\"Count of Loans\")\n",
        "plt.show()"
      ],
      "metadata": {
        "id": "p0xbDpWDnAec",
        "trusted": true,
        "execution": {
          "iopub.status.busy": "2024-12-02T14:23:18.600465Z",
          "iopub.execute_input": "2024-12-02T14:23:18.600917Z",
          "iopub.status.idle": "2024-12-02T14:23:18.849293Z",
          "shell.execute_reply.started": "2024-12-02T14:23:18.600869Z",
          "shell.execute_reply": "2024-12-02T14:23:18.84827Z"
        }
      },
      "outputs": [],
      "execution_count": null
    },
    {
      "cell_type": "code",
      "source": [
        "property_area_approval = df.groupby('Property_Area')['Loan_Status'].value_counts(normalize=True) * 100\n",
        "property_area_approval"
      ],
      "metadata": {
        "id": "p9UORFSpnDG4",
        "trusted": true,
        "execution": {
          "iopub.status.busy": "2024-12-02T14:23:18.850792Z",
          "iopub.execute_input": "2024-12-02T14:23:18.85123Z",
          "iopub.status.idle": "2024-12-02T14:23:18.865801Z",
          "shell.execute_reply.started": "2024-12-02T14:23:18.851182Z",
          "shell.execute_reply": "2024-12-02T14:23:18.864772Z"
        }
      },
      "outputs": [],
      "execution_count": null
    },
    {
      "cell_type": "markdown",
      "source": [
        "\n",
        "\n",
        "---\n"
      ],
      "metadata": {
        "id": "7RSlfpnNWx9m"
      }
    },
    {
      "cell_type": "code",
      "source": [
        "df"
      ],
      "metadata": {
        "id": "0hHHo4eKZRVK",
        "trusted": true,
        "execution": {
          "iopub.status.busy": "2024-12-02T14:23:18.867041Z",
          "iopub.execute_input": "2024-12-02T14:23:18.867337Z",
          "iopub.status.idle": "2024-12-02T14:23:18.888256Z",
          "shell.execute_reply.started": "2024-12-02T14:23:18.86731Z",
          "shell.execute_reply": "2024-12-02T14:23:18.887196Z"
        }
      },
      "outputs": [],
      "execution_count": null
    },
    {
      "cell_type": "code",
      "source": [
        "df = df.drop(columns=['Loan_ID'])"
      ],
      "metadata": {
        "id": "MvZ31I5lDcmX",
        "trusted": true,
        "execution": {
          "iopub.status.busy": "2024-12-02T14:23:18.889638Z",
          "iopub.execute_input": "2024-12-02T14:23:18.89002Z",
          "iopub.status.idle": "2024-12-02T14:23:18.90196Z",
          "shell.execute_reply.started": "2024-12-02T14:23:18.889985Z",
          "shell.execute_reply": "2024-12-02T14:23:18.900693Z"
        }
      },
      "outputs": [],
      "execution_count": null
    },
    {
      "cell_type": "code",
      "source": [
        "df.columns"
      ],
      "metadata": {
        "id": "EyLfACx4YfrZ",
        "trusted": true,
        "execution": {
          "iopub.status.busy": "2024-12-02T14:23:18.903348Z",
          "iopub.execute_input": "2024-12-02T14:23:18.903801Z",
          "iopub.status.idle": "2024-12-02T14:23:18.915904Z",
          "shell.execute_reply.started": "2024-12-02T14:23:18.903755Z",
          "shell.execute_reply": "2024-12-02T14:23:18.914799Z"
        }
      },
      "outputs": [],
      "execution_count": null
    },
    {
      "cell_type": "code",
      "source": [
        "df_test.columns"
      ],
      "metadata": {
        "id": "nMJcs_XfYaz-",
        "trusted": true,
        "execution": {
          "iopub.status.busy": "2024-12-02T14:23:18.917303Z",
          "iopub.execute_input": "2024-12-02T14:23:18.917839Z",
          "iopub.status.idle": "2024-12-02T14:23:18.927303Z",
          "shell.execute_reply.started": "2024-12-02T14:23:18.917793Z",
          "shell.execute_reply": "2024-12-02T14:23:18.926311Z"
        }
      },
      "outputs": [],
      "execution_count": null
    },
    {
      "cell_type": "markdown",
      "source": [
        "\n",
        "\n",
        "---\n"
      ],
      "metadata": {
        "id": "InUMiZOWYp2D"
      }
    },
    {
      "cell_type": "code",
      "source": [
        "from sklearn.preprocessing import LabelEncoder\n",
        "\n",
        "LE = LabelEncoder()\n",
        "LE"
      ],
      "metadata": {
        "id": "QQaAwXSof74U",
        "trusted": true,
        "execution": {
          "iopub.status.busy": "2024-12-02T14:23:18.928636Z",
          "iopub.execute_input": "2024-12-02T14:23:18.929576Z",
          "iopub.status.idle": "2024-12-02T14:23:18.940804Z",
          "shell.execute_reply.started": "2024-12-02T14:23:18.929529Z",
          "shell.execute_reply": "2024-12-02T14:23:18.93972Z"
        }
      },
      "outputs": [],
      "execution_count": null
    },
    {
      "cell_type": "code",
      "source": [
        "df['Gender'] = LE.fit_transform(df['Gender'])\n",
        "df_test['Gender'] = LE.transform(df_test['Gender'])\n",
        "\n",
        "df['Married'] = LE.fit_transform(df['Married'])\n",
        "df_test['Married'] = LE.transform(df_test['Married'])\n",
        "\n",
        "df['Education'] = LE.fit_transform(df['Education'])\n",
        "df_test['Education'] = LE.transform(df_test['Education'])\n",
        "\n",
        "df['Loan_Status'] = LE.fit_transform(df['Loan_Status'])\n",
        "\n",
        "df['Property_Area'] = LE.fit_transform(df['Property_Area'])\n",
        "df_test['Property_Area'] = LE.transform(df_test['Property_Area'])\n",
        "\n",
        "df['Self_Employed'] = LE.fit_transform(df['Self_Employed'])\n",
        "df_test['Self_Employed'] = LE.transform(df_test['Self_Employed'])"
      ],
      "metadata": {
        "trusted": true,
        "execution": {
          "iopub.status.busy": "2024-12-02T14:23:18.942094Z",
          "iopub.execute_input": "2024-12-02T14:23:18.942436Z",
          "iopub.status.idle": "2024-12-02T14:23:18.960932Z",
          "shell.execute_reply.started": "2024-12-02T14:23:18.942395Z",
          "shell.execute_reply": "2024-12-02T14:23:18.95989Z"
        },
        "id": "Rk6cFSOJWHj5"
      },
      "outputs": [],
      "execution_count": null
    },
    {
      "cell_type": "code",
      "source": [
        "df['Dependents'] = LE.fit_transform(df['Dependents'])\n",
        "df_test['Dependents'] = LE.transform(df_test['Dependents'])"
      ],
      "metadata": {
        "trusted": true,
        "execution": {
          "iopub.status.busy": "2024-12-02T14:23:18.962304Z",
          "iopub.execute_input": "2024-12-02T14:23:18.962637Z",
          "iopub.status.idle": "2024-12-02T14:23:18.984478Z",
          "shell.execute_reply.started": "2024-12-02T14:23:18.962604Z",
          "shell.execute_reply": "2024-12-02T14:23:18.983429Z"
        },
        "id": "3L3-iRE5WHj5"
      },
      "outputs": [],
      "execution_count": null
    },
    {
      "cell_type": "code",
      "source": [
        "from sklearn.model_selection import train_test_split\n",
        "\n",
        "X = df.drop('Loan_Status' , axis = 1)\n",
        "y = df['Loan_Status']\n",
        "\n",
        "X_train , X_test , y_train , y_test = train_test_split(X,y,test_size= 0.3 , random_state= 42)"
      ],
      "metadata": {
        "id": "Jpc_gsqnaLCm",
        "trusted": true,
        "execution": {
          "iopub.status.busy": "2024-12-02T14:23:18.993221Z",
          "iopub.execute_input": "2024-12-02T14:23:18.993593Z",
          "iopub.status.idle": "2024-12-02T14:23:19.005078Z",
          "shell.execute_reply.started": "2024-12-02T14:23:18.993558Z",
          "shell.execute_reply": "2024-12-02T14:23:19.00394Z"
        }
      },
      "outputs": [],
      "execution_count": null
    },
    {
      "cell_type": "code",
      "source": [
        "from sklearn.preprocessing import StandardScaler\n",
        "\n",
        "scaler = StandardScaler()\n",
        "scaler"
      ],
      "metadata": {
        "id": "SGE3LrI4Kz7w",
        "trusted": true,
        "execution": {
          "iopub.status.busy": "2024-12-02T14:23:19.006689Z",
          "iopub.execute_input": "2024-12-02T14:23:19.007018Z",
          "iopub.status.idle": "2024-12-02T14:23:19.018003Z",
          "shell.execute_reply.started": "2024-12-02T14:23:19.006989Z",
          "shell.execute_reply": "2024-12-02T14:23:19.01697Z"
        }
      },
      "outputs": [],
      "execution_count": null
    },
    {
      "cell_type": "code",
      "source": [
        "X_train = scaler.fit_transform(X_train)\n",
        "X_test = scaler.transform(X_test)"
      ],
      "metadata": {
        "id": "p_4hHBzSLAYN",
        "trusted": true,
        "execution": {
          "iopub.status.busy": "2024-12-02T14:23:19.019046Z",
          "iopub.execute_input": "2024-12-02T14:23:19.019369Z",
          "iopub.status.idle": "2024-12-02T14:23:19.036833Z",
          "shell.execute_reply.started": "2024-12-02T14:23:19.019338Z",
          "shell.execute_reply": "2024-12-02T14:23:19.035772Z"
        }
      },
      "outputs": [],
      "execution_count": null
    },
    {
      "cell_type": "markdown",
      "source": [
        "### ①  Logistic Regression (LogReg)"
      ],
      "metadata": {
        "id": "QCYnchOD0I08"
      }
    },
    {
      "cell_type": "markdown",
      "source": [
        "\n",
        "#### **→ Create the Model**"
      ],
      "metadata": {
        "id": "IXms3h9r6SF8"
      }
    },
    {
      "cell_type": "code",
      "source": [
        "from sklearn.linear_model import LogisticRegression\n",
        "\n",
        "LogReg = LogisticRegression()\n",
        "LogReg"
      ],
      "metadata": {
        "id": "Hxy1Yn6M2mpx",
        "trusted": true,
        "execution": {
          "iopub.status.busy": "2024-12-02T14:23:19.038065Z",
          "iopub.execute_input": "2024-12-02T14:23:19.038528Z",
          "iopub.status.idle": "2024-12-02T14:23:19.052238Z",
          "shell.execute_reply.started": "2024-12-02T14:23:19.038492Z",
          "shell.execute_reply": "2024-12-02T14:23:19.051156Z"
        }
      },
      "outputs": [],
      "execution_count": null
    },
    {
      "cell_type": "markdown",
      "source": [
        "#### **→  Defining the Parameter Grid**"
      ],
      "metadata": {
        "id": "KCMXIwZO-Pam"
      }
    },
    {
      "cell_type": "code",
      "source": [
        "param_grid = {\n",
        "    'C': [0.01, 0.1, 1, 10],\n",
        "    'penalty': ['l2'],\n",
        "    'solver': ['liblinear', 'lbfgs'],\n",
        "    'max_iter': [100, 200],\n",
        "    'class_weight': [None, 'balanced'],\n",
        "    'tol': [1e-4]\n",
        "             }"
      ],
      "metadata": {
        "id": "sLdJkNRB3ITI",
        "trusted": true,
        "execution": {
          "iopub.status.busy": "2024-12-02T14:23:19.054099Z",
          "iopub.execute_input": "2024-12-02T14:23:19.054537Z",
          "iopub.status.idle": "2024-12-02T14:23:19.063476Z",
          "shell.execute_reply.started": "2024-12-02T14:23:19.054492Z",
          "shell.execute_reply": "2024-12-02T14:23:19.062435Z"
        }
      },
      "outputs": [],
      "execution_count": null
    },
    {
      "cell_type": "markdown",
      "source": [
        "#### **→  Setting Up GridSearchCV**"
      ],
      "metadata": {
        "id": "xuati6unIF7U"
      }
    },
    {
      "cell_type": "code",
      "source": [
        "from sklearn.model_selection import GridSearchCV\n",
        "\n",
        "grid_search = GridSearchCV (LogReg , param_grid , cv=5)\n",
        "grid_search"
      ],
      "metadata": {
        "id": "KX9LFIo34Iki",
        "trusted": true,
        "execution": {
          "iopub.status.busy": "2024-12-02T14:23:19.0649Z",
          "iopub.execute_input": "2024-12-02T14:23:19.065339Z",
          "iopub.status.idle": "2024-12-02T14:23:19.084513Z",
          "shell.execute_reply.started": "2024-12-02T14:23:19.065294Z",
          "shell.execute_reply": "2024-12-02T14:23:19.083436Z"
        }
      },
      "outputs": [],
      "execution_count": null
    },
    {
      "cell_type": "markdown",
      "source": [
        "#### **→  Fitting the Model Using GridSearchCV**"
      ],
      "metadata": {
        "id": "aMnpflhzIM1h"
      }
    },
    {
      "cell_type": "code",
      "source": [
        "grid_search.fit(X_train , y_train)"
      ],
      "metadata": {
        "id": "ZCGFx5j-4f2D",
        "trusted": true,
        "execution": {
          "iopub.status.busy": "2024-12-02T14:23:19.085753Z",
          "iopub.execute_input": "2024-12-02T14:23:19.086055Z",
          "iopub.status.idle": "2024-12-02T14:23:19.667507Z",
          "shell.execute_reply.started": "2024-12-02T14:23:19.086025Z",
          "shell.execute_reply": "2024-12-02T14:23:19.666458Z"
        }
      },
      "outputs": [],
      "execution_count": null
    },
    {
      "cell_type": "markdown",
      "source": [
        "#### **→  Retrieving the Best Parameters**"
      ],
      "metadata": {
        "id": "MU5uApLGIP-w"
      }
    },
    {
      "cell_type": "code",
      "source": [
        "print('Best Parameters :' , grid_search.best_params_)"
      ],
      "metadata": {
        "id": "0FTnEKY04pMa",
        "trusted": true,
        "execution": {
          "iopub.status.busy": "2024-12-02T14:23:19.668852Z",
          "iopub.execute_input": "2024-12-02T14:23:19.669168Z",
          "iopub.status.idle": "2024-12-02T14:23:19.674228Z",
          "shell.execute_reply.started": "2024-12-02T14:23:19.669133Z",
          "shell.execute_reply": "2024-12-02T14:23:19.673116Z"
        }
      },
      "outputs": [],
      "execution_count": null
    },
    {
      "cell_type": "markdown",
      "source": [
        "#### **→  Retrieving the Best Model**"
      ],
      "metadata": {
        "id": "Ii5ZiZlkIS_b"
      }
    },
    {
      "cell_type": "code",
      "source": [
        "best_LogReg = grid_search.best_estimator_\n",
        "best_LogReg"
      ],
      "metadata": {
        "id": "HaeNWgq442My",
        "trusted": true,
        "execution": {
          "iopub.status.busy": "2024-12-02T14:23:19.675432Z",
          "iopub.execute_input": "2024-12-02T14:23:19.675761Z",
          "iopub.status.idle": "2024-12-02T14:23:19.689279Z",
          "shell.execute_reply.started": "2024-12-02T14:23:19.67572Z",
          "shell.execute_reply": "2024-12-02T14:23:19.688233Z"
        }
      },
      "outputs": [],
      "execution_count": null
    },
    {
      "cell_type": "markdown",
      "source": [
        "#### **→ Fit the Model**"
      ],
      "metadata": {
        "id": "fkuWY_mk0yft"
      }
    },
    {
      "cell_type": "code",
      "source": [
        "best_LogReg.fit(X_train , y_train)"
      ],
      "metadata": {
        "id": "kQbkNtNa5Jtf",
        "trusted": true,
        "execution": {
          "iopub.status.busy": "2024-12-02T14:23:19.691122Z",
          "iopub.execute_input": "2024-12-02T14:23:19.691562Z",
          "iopub.status.idle": "2024-12-02T14:23:19.706014Z",
          "shell.execute_reply.started": "2024-12-02T14:23:19.691516Z",
          "shell.execute_reply": "2024-12-02T14:23:19.7048Z"
        }
      },
      "outputs": [],
      "execution_count": null
    },
    {
      "cell_type": "markdown",
      "source": [
        "#### **→  Make Predictions**"
      ],
      "metadata": {
        "id": "ROZ_Ss8x06sF"
      }
    },
    {
      "cell_type": "code",
      "source": [
        "LogReg_predict = best_LogReg.predict(X_test)\n",
        "LogReg_predict"
      ],
      "metadata": {
        "id": "OAee6sXs5QUX",
        "trusted": true,
        "execution": {
          "iopub.status.busy": "2024-12-02T14:23:19.707558Z",
          "iopub.execute_input": "2024-12-02T14:23:19.707902Z",
          "iopub.status.idle": "2024-12-02T14:23:19.718785Z",
          "shell.execute_reply.started": "2024-12-02T14:23:19.707868Z",
          "shell.execute_reply": "2024-12-02T14:23:19.717672Z"
        }
      },
      "outputs": [],
      "execution_count": null
    },
    {
      "cell_type": "markdown",
      "source": [
        "#### **→ Evaluating the model using Accuracy Score**"
      ],
      "metadata": {
        "id": "K6Y7MKKS1RFS"
      }
    },
    {
      "cell_type": "code",
      "source": [
        "from sklearn.metrics import accuracy_score\n",
        "\n",
        "LogReg_Accuracy = accuracy_score(y_test, LogReg_predict)\n",
        "print ('LogisticRegression Accuracy-score is :' , LogReg_Accuracy )"
      ],
      "metadata": {
        "id": "DLsKDju-5kQ4",
        "trusted": true,
        "execution": {
          "iopub.status.busy": "2024-12-02T14:23:19.720023Z",
          "iopub.execute_input": "2024-12-02T14:23:19.72077Z",
          "iopub.status.idle": "2024-12-02T14:23:19.732948Z",
          "shell.execute_reply.started": "2024-12-02T14:23:19.720721Z",
          "shell.execute_reply": "2024-12-02T14:23:19.731679Z"
        }
      },
      "outputs": [],
      "execution_count": null
    },
    {
      "cell_type": "markdown",
      "source": [
        "#### **→ Evaluating the model using Precision Score**"
      ],
      "metadata": {
        "id": "NBo53S0N1V0O"
      }
    },
    {
      "cell_type": "code",
      "source": [
        "from sklearn.metrics import precision_score\n",
        "\n",
        "LogReg_Precision = precision_score(y_test, LogReg_predict)\n",
        "print ('LogisticRegression Precision-score is :' , LogReg_Precision )"
      ],
      "metadata": {
        "id": "U1_7wVGR5nIk",
        "trusted": true,
        "execution": {
          "iopub.status.busy": "2024-12-02T14:23:19.734302Z",
          "iopub.execute_input": "2024-12-02T14:23:19.734612Z",
          "iopub.status.idle": "2024-12-02T14:23:19.748294Z",
          "shell.execute_reply.started": "2024-12-02T14:23:19.734582Z",
          "shell.execute_reply": "2024-12-02T14:23:19.747331Z"
        }
      },
      "outputs": [],
      "execution_count": null
    },
    {
      "cell_type": "markdown",
      "source": [
        "#### **→ Evaluating the model using Recall Score**"
      ],
      "metadata": {
        "id": "HhF-8WZ-1WSJ"
      }
    },
    {
      "cell_type": "code",
      "source": [
        "from sklearn.metrics import recall_score\n",
        "\n",
        "LogReg_Recall = recall_score(y_test, LogReg_predict)\n",
        "print ('LogisticRegression Recall-score is :' , LogReg_Recall )"
      ],
      "metadata": {
        "id": "mhT0Qd9M5ptp",
        "trusted": true,
        "execution": {
          "iopub.status.busy": "2024-12-02T14:23:19.749501Z",
          "iopub.execute_input": "2024-12-02T14:23:19.749851Z",
          "iopub.status.idle": "2024-12-02T14:23:19.766375Z",
          "shell.execute_reply.started": "2024-12-02T14:23:19.74982Z",
          "shell.execute_reply": "2024-12-02T14:23:19.765422Z"
        }
      },
      "outputs": [],
      "execution_count": null
    },
    {
      "cell_type": "markdown",
      "source": [
        "#### **→ Evaluating the model using F1 Score**"
      ],
      "metadata": {
        "id": "5jkQLVsa1WuU"
      }
    },
    {
      "cell_type": "code",
      "source": [
        "from sklearn.metrics import f1_score\n",
        "\n",
        "LogReg_F1 = f1_score(y_test, LogReg_predict)\n",
        "print('LogisticRegression F1-score is :' , LogReg_F1)"
      ],
      "metadata": {
        "id": "nSQUfc1X5rPs",
        "trusted": true,
        "execution": {
          "iopub.status.busy": "2024-12-02T14:23:19.767726Z",
          "iopub.execute_input": "2024-12-02T14:23:19.768555Z",
          "iopub.status.idle": "2024-12-02T14:23:19.787862Z",
          "shell.execute_reply.started": "2024-12-02T14:23:19.768506Z",
          "shell.execute_reply": "2024-12-02T14:23:19.78648Z"
        }
      },
      "outputs": [],
      "execution_count": null
    },
    {
      "cell_type": "markdown",
      "source": [
        "#### **→ Evaluating the model using the ROC curve**"
      ],
      "metadata": {
        "id": "oNviB-yC1qGW"
      }
    },
    {
      "cell_type": "code",
      "source": [
        "from sklearn.metrics import roc_curve\n",
        "\n",
        "LogReg_fpr , LogReg_tpr , _ = roc_curve(y_test, LogReg_predict)\n",
        "LogReg_fpr , LogReg_tpr , _"
      ],
      "metadata": {
        "id": "neTjm32o5vC3",
        "trusted": true,
        "execution": {
          "iopub.status.busy": "2024-12-02T14:23:19.789257Z",
          "iopub.execute_input": "2024-12-02T14:23:19.789638Z",
          "iopub.status.idle": "2024-12-02T14:23:19.800889Z",
          "shell.execute_reply.started": "2024-12-02T14:23:19.789605Z",
          "shell.execute_reply": "2024-12-02T14:23:19.799828Z"
        }
      },
      "outputs": [],
      "execution_count": null
    },
    {
      "cell_type": "markdown",
      "source": [
        "#### **→ Evaluating the model using the AUC**"
      ],
      "metadata": {
        "id": "tb-kY3V52KR2"
      }
    },
    {
      "cell_type": "code",
      "source": [
        "from sklearn.metrics import auc\n",
        "\n",
        "LogReg_auc = auc(LogReg_fpr ,LogReg_tpr)\n",
        "LogReg_auc"
      ],
      "metadata": {
        "id": "Wp6SDNtq5w6Y",
        "trusted": true,
        "execution": {
          "iopub.status.busy": "2024-12-02T14:23:19.802513Z",
          "iopub.execute_input": "2024-12-02T14:23:19.803042Z",
          "iopub.status.idle": "2024-12-02T14:23:19.816796Z",
          "shell.execute_reply.started": "2024-12-02T14:23:19.802992Z",
          "shell.execute_reply": "2024-12-02T14:23:19.815686Z"
        }
      },
      "outputs": [],
      "execution_count": null
    },
    {
      "cell_type": "markdown",
      "source": [
        "\n",
        "\n",
        "---\n",
        "\n",
        "\n",
        "### ②  Decision Tree Classifier (DTC)"
      ],
      "metadata": {
        "id": "Y-v5tGnK2VSM"
      }
    },
    {
      "cell_type": "markdown",
      "source": [
        "\n",
        "#### **→ Create the Model**"
      ],
      "metadata": {
        "id": "_HTiVdSv2VSX"
      }
    },
    {
      "cell_type": "code",
      "source": [
        "from sklearn.tree import DecisionTreeClassifier\n",
        "\n",
        "DTC = DecisionTreeClassifier()\n",
        "DTC"
      ],
      "metadata": {
        "id": "50Kj1axF6a77",
        "trusted": true,
        "execution": {
          "iopub.status.busy": "2024-12-02T14:23:19.818035Z",
          "iopub.execute_input": "2024-12-02T14:23:19.818358Z",
          "iopub.status.idle": "2024-12-02T14:23:19.831468Z",
          "shell.execute_reply.started": "2024-12-02T14:23:19.818326Z",
          "shell.execute_reply": "2024-12-02T14:23:19.829889Z"
        }
      },
      "outputs": [],
      "execution_count": null
    },
    {
      "cell_type": "markdown",
      "source": [
        "#### **→  Defining the Parameter Grid**"
      ],
      "metadata": {
        "id": "KPnrdE7G2VSX"
      }
    },
    {
      "cell_type": "code",
      "source": [
        "param_grid = {\n",
        "    'criterion': ['gini', 'entropy'],\n",
        "    'max_depth': [None, 5, 10, 15, 20],\n",
        "    'max_features': [None, 'sqrt', 'log2', 0.5]\n",
        "             }"
      ],
      "metadata": {
        "id": "aMLIMvTn6oQ1",
        "trusted": true,
        "execution": {
          "iopub.status.busy": "2024-12-02T14:23:19.833249Z",
          "iopub.execute_input": "2024-12-02T14:23:19.833589Z",
          "iopub.status.idle": "2024-12-02T14:23:19.842317Z",
          "shell.execute_reply.started": "2024-12-02T14:23:19.833558Z",
          "shell.execute_reply": "2024-12-02T14:23:19.841285Z"
        }
      },
      "outputs": [],
      "execution_count": null
    },
    {
      "cell_type": "markdown",
      "source": [
        "#### **→  Setting Up GridSearchCV**"
      ],
      "metadata": {
        "id": "E7vJXDRS2VSX"
      }
    },
    {
      "cell_type": "code",
      "source": [
        "from sklearn.model_selection import GridSearchCV\n",
        "\n",
        "grid_searsh = GridSearchCV(DTC , param_grid , cv=5)\n",
        "grid_searsh"
      ],
      "metadata": {
        "id": "xg7wk8kl66rp",
        "trusted": true,
        "execution": {
          "iopub.status.busy": "2024-12-02T14:23:19.84347Z",
          "iopub.execute_input": "2024-12-02T14:23:19.843844Z",
          "iopub.status.idle": "2024-12-02T14:23:19.859558Z",
          "shell.execute_reply.started": "2024-12-02T14:23:19.843797Z",
          "shell.execute_reply": "2024-12-02T14:23:19.858166Z"
        }
      },
      "outputs": [],
      "execution_count": null
    },
    {
      "cell_type": "markdown",
      "source": [
        "#### **→  Fitting the Model Using GridSearchCV**"
      ],
      "metadata": {
        "id": "08lKdzpt2VSY"
      }
    },
    {
      "cell_type": "code",
      "source": [
        "grid_searsh.fit(X,y)"
      ],
      "metadata": {
        "id": "aNBFHxsW7TqM",
        "trusted": true,
        "execution": {
          "iopub.status.busy": "2024-12-02T14:23:19.861083Z",
          "iopub.execute_input": "2024-12-02T14:23:19.861471Z",
          "iopub.status.idle": "2024-12-02T14:23:21.059657Z",
          "shell.execute_reply.started": "2024-12-02T14:23:19.861438Z",
          "shell.execute_reply": "2024-12-02T14:23:21.058613Z"
        }
      },
      "outputs": [],
      "execution_count": null
    },
    {
      "cell_type": "markdown",
      "source": [
        "#### **→  Retrieving the Best Parameters**"
      ],
      "metadata": {
        "id": "-e1j4VNz2VSY"
      }
    },
    {
      "cell_type": "code",
      "source": [
        "print('Best Parameters :' , grid_searsh.best_params_)"
      ],
      "metadata": {
        "id": "C6L7zyhc7bkC",
        "trusted": true,
        "execution": {
          "iopub.status.busy": "2024-12-02T14:23:21.060893Z",
          "iopub.execute_input": "2024-12-02T14:23:21.0612Z",
          "iopub.status.idle": "2024-12-02T14:23:21.066394Z",
          "shell.execute_reply.started": "2024-12-02T14:23:21.061169Z",
          "shell.execute_reply": "2024-12-02T14:23:21.065468Z"
        }
      },
      "outputs": [],
      "execution_count": null
    },
    {
      "cell_type": "markdown",
      "source": [
        "#### **→  Retrieving the Best Model**"
      ],
      "metadata": {
        "id": "n-eD4R3g2VSY"
      }
    },
    {
      "cell_type": "code",
      "source": [
        "best_DTC = grid_searsh.best_estimator_\n",
        "best_DTC"
      ],
      "metadata": {
        "id": "9UvrEjp97nRp",
        "trusted": true,
        "execution": {
          "iopub.status.busy": "2024-12-02T14:23:21.067779Z",
          "iopub.execute_input": "2024-12-02T14:23:21.068083Z",
          "iopub.status.idle": "2024-12-02T14:23:21.081239Z",
          "shell.execute_reply.started": "2024-12-02T14:23:21.068053Z",
          "shell.execute_reply": "2024-12-02T14:23:21.080184Z"
        }
      },
      "outputs": [],
      "execution_count": null
    },
    {
      "cell_type": "markdown",
      "source": [
        "#### **→  Evaluating the Model with Cross-Validation**"
      ],
      "metadata": {
        "id": "RP6gauzF2VSY"
      }
    },
    {
      "cell_type": "code",
      "source": [
        "from sklearn.model_selection import cross_val_score\n",
        "\n",
        "cv_scores = cross_val_score(best_DTC, X, y, cv=5)\n",
        "print(\"Cross-Validation Accuracy Scores:\", cv_scores)"
      ],
      "metadata": {
        "id": "e6MGBsZ6QPGD",
        "trusted": true,
        "execution": {
          "iopub.status.busy": "2024-12-02T14:23:21.082975Z",
          "iopub.execute_input": "2024-12-02T14:23:21.083305Z",
          "iopub.status.idle": "2024-12-02T14:23:21.121764Z",
          "shell.execute_reply.started": "2024-12-02T14:23:21.083262Z",
          "shell.execute_reply": "2024-12-02T14:23:21.120753Z"
        }
      },
      "outputs": [],
      "execution_count": null
    },
    {
      "cell_type": "markdown",
      "source": [
        "#### **→  Get Predictions using Cross-Validation**"
      ],
      "metadata": {
        "id": "ThmamPFrI3_i"
      }
    },
    {
      "cell_type": "code",
      "source": [
        "from sklearn.model_selection import cross_val_predict\n",
        "\n",
        "DTC_predict = cross_val_predict(best_DTC, X, y, cv=5)"
      ],
      "metadata": {
        "id": "6_80Sso-7_mG",
        "trusted": true,
        "execution": {
          "iopub.status.busy": "2024-12-02T14:23:21.123216Z",
          "iopub.execute_input": "2024-12-02T14:23:21.123619Z",
          "iopub.status.idle": "2024-12-02T14:23:21.154679Z",
          "shell.execute_reply.started": "2024-12-02T14:23:21.123575Z",
          "shell.execute_reply": "2024-12-02T14:23:21.15385Z"
        }
      },
      "outputs": [],
      "execution_count": null
    },
    {
      "cell_type": "markdown",
      "source": [
        "#### **→ Evaluating the model using Accuracy Score**"
      ],
      "metadata": {
        "id": "kNMFZijB2VSY"
      }
    },
    {
      "cell_type": "code",
      "source": [
        "from sklearn.metrics import accuracy_score\n",
        "\n",
        "DTC_Accuracy = accuracy_score(y, DTC_predict)\n",
        "print('Decision Tree Accuracy-score is:', DTC_Accuracy)"
      ],
      "metadata": {
        "id": "gWdDSzEO8JtS",
        "trusted": true,
        "execution": {
          "iopub.status.busy": "2024-12-02T14:23:21.155924Z",
          "iopub.execute_input": "2024-12-02T14:23:21.156285Z",
          "iopub.status.idle": "2024-12-02T14:23:21.162922Z",
          "shell.execute_reply.started": "2024-12-02T14:23:21.156253Z",
          "shell.execute_reply": "2024-12-02T14:23:21.161899Z"
        }
      },
      "outputs": [],
      "execution_count": null
    },
    {
      "cell_type": "markdown",
      "source": [
        "#### **→ Evaluating the model using Precision Score**"
      ],
      "metadata": {
        "id": "_m0Yr4nK2VSZ"
      }
    },
    {
      "cell_type": "code",
      "source": [
        "from sklearn.metrics import precision_score\n",
        "\n",
        "DTC_Precision = precision_score(y, DTC_predict, average='weighted')\n",
        "print('Decision Tree Precision-score is:', DTC_Precision)"
      ],
      "metadata": {
        "id": "mTmZgncB8MJR",
        "trusted": true,
        "execution": {
          "iopub.status.busy": "2024-12-02T14:23:21.164466Z",
          "iopub.execute_input": "2024-12-02T14:23:21.164813Z",
          "iopub.status.idle": "2024-12-02T14:23:21.175917Z",
          "shell.execute_reply.started": "2024-12-02T14:23:21.164781Z",
          "shell.execute_reply": "2024-12-02T14:23:21.17499Z"
        }
      },
      "outputs": [],
      "execution_count": null
    },
    {
      "cell_type": "markdown",
      "source": [
        "#### **→ Evaluating the model using Recall Score**"
      ],
      "metadata": {
        "id": "JqIS238c2VSZ"
      }
    },
    {
      "cell_type": "code",
      "source": [
        "from sklearn.metrics import recall_score\n",
        "\n",
        "DTC_Recall = recall_score(y, DTC_predict, average='weighted')\n",
        "print('Decision Tree Recall-score is:', DTC_Recall)"
      ],
      "metadata": {
        "id": "GLJT9L9j8Qf2",
        "trusted": true,
        "execution": {
          "iopub.status.busy": "2024-12-02T14:23:21.177065Z",
          "iopub.execute_input": "2024-12-02T14:23:21.177361Z",
          "iopub.status.idle": "2024-12-02T14:23:21.188464Z",
          "shell.execute_reply.started": "2024-12-02T14:23:21.177333Z",
          "shell.execute_reply": "2024-12-02T14:23:21.187517Z"
        }
      },
      "outputs": [],
      "execution_count": null
    },
    {
      "cell_type": "markdown",
      "source": [
        "#### **→ Evaluating the model using F1 Score**"
      ],
      "metadata": {
        "id": "6LNvaHR92VSZ"
      }
    },
    {
      "cell_type": "code",
      "source": [
        "from sklearn.metrics import f1_score\n",
        "\n",
        "DTC_F1 = f1_score(y, DTC_predict, average='weighted')\n",
        "print('Decision Tree F1-score is:', DTC_F1)"
      ],
      "metadata": {
        "id": "S3IfRzqg8S8S",
        "trusted": true,
        "execution": {
          "iopub.status.busy": "2024-12-02T14:23:21.189842Z",
          "iopub.execute_input": "2024-12-02T14:23:21.190729Z",
          "iopub.status.idle": "2024-12-02T14:23:21.200354Z",
          "shell.execute_reply.started": "2024-12-02T14:23:21.190664Z",
          "shell.execute_reply": "2024-12-02T14:23:21.199425Z"
        }
      },
      "outputs": [],
      "execution_count": null
    },
    {
      "cell_type": "markdown",
      "source": [
        "#### **→ Evaluating the model using the ROC curve**"
      ],
      "metadata": {
        "id": "8xXUZSKB2VSZ"
      }
    },
    {
      "cell_type": "code",
      "source": [
        "from sklearn.metrics import roc_curve, auc\n",
        "\n",
        "DTC_fpr, DTC_tpr, _ = roc_curve(y, DTC_predict)"
      ],
      "metadata": {
        "id": "Vn4tzYS18WK3",
        "trusted": true,
        "execution": {
          "iopub.status.busy": "2024-12-02T14:23:21.201543Z",
          "iopub.execute_input": "2024-12-02T14:23:21.20189Z",
          "iopub.status.idle": "2024-12-02T14:23:21.215915Z",
          "shell.execute_reply.started": "2024-12-02T14:23:21.201845Z",
          "shell.execute_reply": "2024-12-02T14:23:21.214855Z"
        }
      },
      "outputs": [],
      "execution_count": null
    },
    {
      "cell_type": "markdown",
      "source": [
        "#### **→ Evaluating the model using the AUC**"
      ],
      "metadata": {
        "id": "sQ52fvBL2VSZ"
      }
    },
    {
      "cell_type": "code",
      "source": [
        "DTC_auc = auc(DTC_fpr, DTC_tpr)\n",
        "print(f'AUC: {DTC_auc:.2f}')"
      ],
      "metadata": {
        "id": "mtmP6x4t8Yt6",
        "trusted": true,
        "execution": {
          "iopub.status.busy": "2024-12-02T14:23:21.217293Z",
          "iopub.execute_input": "2024-12-02T14:23:21.21763Z",
          "iopub.status.idle": "2024-12-02T14:23:21.229567Z",
          "shell.execute_reply.started": "2024-12-02T14:23:21.217599Z",
          "shell.execute_reply": "2024-12-02T14:23:21.228614Z"
        }
      },
      "outputs": [],
      "execution_count": null
    },
    {
      "cell_type": "markdown",
      "source": [
        "\n",
        "\n",
        "---\n",
        "\n",
        "\n",
        "### ③  Random Forest Classifier (RFC)"
      ],
      "metadata": {
        "id": "XdV168qy2W2p"
      }
    },
    {
      "cell_type": "markdown",
      "source": [
        "\n",
        "#### **→ Create the Model**"
      ],
      "metadata": {
        "id": "ce63ZWBT2W3B"
      }
    },
    {
      "cell_type": "code",
      "source": [
        "from sklearn.ensemble import RandomForestClassifier\n",
        "\n",
        "RFC = RandomForestClassifier()\n",
        "RFC"
      ],
      "metadata": {
        "id": "fZgQTXir8huJ",
        "trusted": true,
        "execution": {
          "iopub.status.busy": "2024-12-02T14:23:21.230889Z",
          "iopub.execute_input": "2024-12-02T14:23:21.231302Z",
          "iopub.status.idle": "2024-12-02T14:23:21.243919Z",
          "shell.execute_reply.started": "2024-12-02T14:23:21.231258Z",
          "shell.execute_reply": "2024-12-02T14:23:21.242984Z"
        }
      },
      "outputs": [],
      "execution_count": null
    },
    {
      "cell_type": "markdown",
      "source": [
        "#### **→  Defining the Parameter Grid**"
      ],
      "metadata": {
        "id": "PPtnhobK2W3B"
      }
    },
    {
      "cell_type": "code",
      "source": [
        "param_grid = {\n",
        "     'n_estimators' : [50, 100],\n",
        "     'max_depth' : [None, 5, 10, 15, 20],\n",
        "     'max_features' : [None, 'sqrt', 'log2'],\n",
        "     'min_samples_split': [2, 5, 10]\n",
        "             }"
      ],
      "metadata": {
        "id": "a7vVUZT18pQc",
        "trusted": true,
        "execution": {
          "iopub.status.busy": "2024-12-02T14:23:21.245346Z",
          "iopub.execute_input": "2024-12-02T14:23:21.245755Z",
          "iopub.status.idle": "2024-12-02T14:23:21.257115Z",
          "shell.execute_reply.started": "2024-12-02T14:23:21.24569Z",
          "shell.execute_reply": "2024-12-02T14:23:21.256214Z"
        }
      },
      "outputs": [],
      "execution_count": null
    },
    {
      "cell_type": "markdown",
      "source": [
        "#### **→  Setting Up GridSearchCV**"
      ],
      "metadata": {
        "id": "JMQI9U2K2W3B"
      }
    },
    {
      "cell_type": "code",
      "source": [
        "from sklearn.model_selection import GridSearchCV\n",
        "\n",
        "grid_search = GridSearchCV(RFC, param_grid, cv=5 ,n_jobs=-1, verbose=1)\n",
        "grid_search"
      ],
      "metadata": {
        "id": "yT8NYDCF83WU",
        "trusted": true,
        "execution": {
          "iopub.status.busy": "2024-12-02T14:23:21.258246Z",
          "iopub.execute_input": "2024-12-02T14:23:21.258545Z",
          "iopub.status.idle": "2024-12-02T14:23:21.277267Z",
          "shell.execute_reply.started": "2024-12-02T14:23:21.258514Z",
          "shell.execute_reply": "2024-12-02T14:23:21.276226Z"
        }
      },
      "outputs": [],
      "execution_count": null
    },
    {
      "cell_type": "markdown",
      "source": [
        "#### **→  Fitting the Model Using GridSearchCV**"
      ],
      "metadata": {
        "id": "VX_9SHri2W3B"
      }
    },
    {
      "cell_type": "code",
      "source": [
        "grid_search.fit(X, y)"
      ],
      "metadata": {
        "id": "EMpO3DHv87r0",
        "trusted": true,
        "execution": {
          "iopub.status.busy": "2024-12-02T14:23:21.278489Z",
          "iopub.execute_input": "2024-12-02T14:23:21.278855Z",
          "iopub.status.idle": "2024-12-02T14:23:50.185411Z",
          "shell.execute_reply.started": "2024-12-02T14:23:21.278823Z",
          "shell.execute_reply": "2024-12-02T14:23:50.184452Z"
        }
      },
      "outputs": [],
      "execution_count": null
    },
    {
      "cell_type": "markdown",
      "source": [
        "#### **→  Retrieving the Best Parameters**"
      ],
      "metadata": {
        "id": "o8NYtKGF2W3C"
      }
    },
    {
      "cell_type": "code",
      "source": [
        "print(\"Best Parameters:\", grid_search.best_params_)"
      ],
      "metadata": {
        "id": "eZR7NpI-8_7W",
        "trusted": true,
        "execution": {
          "iopub.status.busy": "2024-12-02T14:23:50.186782Z",
          "iopub.execute_input": "2024-12-02T14:23:50.187135Z",
          "iopub.status.idle": "2024-12-02T14:23:50.192006Z",
          "shell.execute_reply.started": "2024-12-02T14:23:50.187099Z",
          "shell.execute_reply": "2024-12-02T14:23:50.190777Z"
        }
      },
      "outputs": [],
      "execution_count": null
    },
    {
      "cell_type": "markdown",
      "source": [
        "#### **→  Retrieving the Best Model**"
      ],
      "metadata": {
        "id": "yJvweWcO2W3C"
      }
    },
    {
      "cell_type": "code",
      "source": [
        "best_RFC = grid_search.best_estimator_\n",
        "best_RFC"
      ],
      "metadata": {
        "id": "OU1Wucmd9Cp2",
        "trusted": true,
        "execution": {
          "iopub.status.busy": "2024-12-02T14:23:50.193527Z",
          "iopub.execute_input": "2024-12-02T14:23:50.193839Z",
          "iopub.status.idle": "2024-12-02T14:23:50.210545Z",
          "shell.execute_reply.started": "2024-12-02T14:23:50.193808Z",
          "shell.execute_reply": "2024-12-02T14:23:50.20954Z"
        }
      },
      "outputs": [],
      "execution_count": null
    },
    {
      "cell_type": "markdown",
      "source": [
        "#### **→  Evaluating the Model with Cross-Validation**"
      ],
      "metadata": {
        "id": "IvZls3jfIusg"
      }
    },
    {
      "cell_type": "code",
      "source": [
        "from sklearn.model_selection import cross_val_score\n",
        "\n",
        "cv_scores = cross_val_score(best_RFC, X, y, cv=5)\n",
        "print(\"Cross-Validation Accuracy Scores:\", cv_scores)"
      ],
      "metadata": {
        "id": "1YncXn6m9HQ6",
        "trusted": true,
        "execution": {
          "iopub.status.busy": "2024-12-02T14:23:50.211984Z",
          "iopub.execute_input": "2024-12-02T14:23:50.212885Z",
          "iopub.status.idle": "2024-12-02T14:23:50.683663Z",
          "shell.execute_reply.started": "2024-12-02T14:23:50.212851Z",
          "shell.execute_reply": "2024-12-02T14:23:50.682682Z"
        }
      },
      "outputs": [],
      "execution_count": null
    },
    {
      "cell_type": "markdown",
      "source": [
        "#### **→  Get Predictions using Cross-Validation**"
      ],
      "metadata": {
        "id": "1Hjt1ZaG2W3C"
      }
    },
    {
      "cell_type": "code",
      "source": [
        "from sklearn.model_selection import cross_val_predict\n",
        "\n",
        "RFC_predict = cross_val_predict(best_RFC, X, y, cv=5)"
      ],
      "metadata": {
        "id": "kXlFUp3K9JaI",
        "trusted": true,
        "execution": {
          "iopub.status.busy": "2024-12-02T14:23:50.684872Z",
          "iopub.execute_input": "2024-12-02T14:23:50.685242Z",
          "iopub.status.idle": "2024-12-02T14:23:51.146739Z",
          "shell.execute_reply.started": "2024-12-02T14:23:50.685206Z",
          "shell.execute_reply": "2024-12-02T14:23:51.145665Z"
        }
      },
      "outputs": [],
      "execution_count": null
    },
    {
      "cell_type": "markdown",
      "source": [
        "#### **→ Evaluating the model using Accuracy Score**"
      ],
      "metadata": {
        "id": "HKVjLvyf2W3C"
      }
    },
    {
      "cell_type": "code",
      "source": [
        "from sklearn.metrics import accuracy_score\n",
        "\n",
        "RFC_Accuracy = accuracy_score(y, RFC_predict)\n",
        "print('Random Forest Accuracy-score is:', RFC_Accuracy)"
      ],
      "metadata": {
        "id": "m9vH8wWv9LjF",
        "trusted": true,
        "execution": {
          "iopub.status.busy": "2024-12-02T14:23:51.147921Z",
          "iopub.execute_input": "2024-12-02T14:23:51.148261Z",
          "iopub.status.idle": "2024-12-02T14:23:51.154661Z",
          "shell.execute_reply.started": "2024-12-02T14:23:51.148229Z",
          "shell.execute_reply": "2024-12-02T14:23:51.15385Z"
        }
      },
      "outputs": [],
      "execution_count": null
    },
    {
      "cell_type": "markdown",
      "source": [
        "#### **→ Evaluating the model using Precision Score**"
      ],
      "metadata": {
        "id": "O-1Br7ya2W3C"
      }
    },
    {
      "cell_type": "code",
      "source": [
        "from sklearn.metrics import precision_score\n",
        "\n",
        "RFC_Precision = precision_score(y, RFC_predict, average='weighted')\n",
        "print('Random Forest Precision-score is:', RFC_Precision)"
      ],
      "metadata": {
        "id": "6gJzUJZR9Ncf",
        "trusted": true,
        "execution": {
          "iopub.status.busy": "2024-12-02T14:23:51.155908Z",
          "iopub.execute_input": "2024-12-02T14:23:51.156193Z",
          "iopub.status.idle": "2024-12-02T14:23:51.170098Z",
          "shell.execute_reply.started": "2024-12-02T14:23:51.156162Z",
          "shell.execute_reply": "2024-12-02T14:23:51.169091Z"
        }
      },
      "outputs": [],
      "execution_count": null
    },
    {
      "cell_type": "markdown",
      "source": [
        "#### **→ Evaluating the model using Recall Score**"
      ],
      "metadata": {
        "id": "Dq6J4iCo2W3C"
      }
    },
    {
      "cell_type": "code",
      "source": [
        "from sklearn.metrics import recall_score\n",
        "\n",
        "RFC_Recall = recall_score(y, RFC_predict, average='weighted')\n",
        "print('Random Forest Recall-score is:', RFC_Recall)"
      ],
      "metadata": {
        "id": "IcuWYFUZ9QEe",
        "trusted": true,
        "execution": {
          "iopub.status.busy": "2024-12-02T14:23:51.171487Z",
          "iopub.execute_input": "2024-12-02T14:23:51.171819Z",
          "iopub.status.idle": "2024-12-02T14:23:51.185788Z",
          "shell.execute_reply.started": "2024-12-02T14:23:51.171788Z",
          "shell.execute_reply": "2024-12-02T14:23:51.184888Z"
        }
      },
      "outputs": [],
      "execution_count": null
    },
    {
      "cell_type": "markdown",
      "source": [
        "#### **→ Evaluating the model using F1 Score**"
      ],
      "metadata": {
        "id": "hIdZMOte2W3D"
      }
    },
    {
      "cell_type": "code",
      "source": [
        "from sklearn.metrics import f1_score\n",
        "\n",
        "RFC_F1 = f1_score(y, RFC_predict, average='weighted')\n",
        "print('Random Forest F1-score is:', RFC_F1)"
      ],
      "metadata": {
        "id": "pK9lf9Ki9SCf",
        "trusted": true,
        "execution": {
          "iopub.status.busy": "2024-12-02T14:23:51.187283Z",
          "iopub.execute_input": "2024-12-02T14:23:51.188044Z",
          "iopub.status.idle": "2024-12-02T14:23:51.197655Z",
          "shell.execute_reply.started": "2024-12-02T14:23:51.187997Z",
          "shell.execute_reply": "2024-12-02T14:23:51.196567Z"
        }
      },
      "outputs": [],
      "execution_count": null
    },
    {
      "cell_type": "markdown",
      "source": [
        "#### **→ Evaluating the model using the ROC curve**"
      ],
      "metadata": {
        "id": "Yg0xp0Lm2W3D"
      }
    },
    {
      "cell_type": "code",
      "source": [
        "from sklearn.metrics import roc_curve, auc\n",
        "\n",
        "RFC_fpr, RFC_tpr, _ = roc_curve(y, RFC_predict)"
      ],
      "metadata": {
        "id": "ltpqWYmj9UoX",
        "trusted": true,
        "execution": {
          "iopub.status.busy": "2024-12-02T14:23:51.198886Z",
          "iopub.execute_input": "2024-12-02T14:23:51.19928Z",
          "iopub.status.idle": "2024-12-02T14:23:51.208816Z",
          "shell.execute_reply.started": "2024-12-02T14:23:51.199247Z",
          "shell.execute_reply": "2024-12-02T14:23:51.207994Z"
        }
      },
      "outputs": [],
      "execution_count": null
    },
    {
      "cell_type": "markdown",
      "source": [
        "#### **→ Evaluating the model using the AUC**"
      ],
      "metadata": {
        "id": "f66dnFgP2W3D"
      }
    },
    {
      "cell_type": "code",
      "source": [
        "RFC_auc = auc(RFC_fpr, RFC_tpr)\n",
        "print(f'AUC: {RFC_auc:.2f}')"
      ],
      "metadata": {
        "id": "gKhmH2m-9WOc",
        "trusted": true,
        "execution": {
          "iopub.status.busy": "2024-12-02T14:23:51.209883Z",
          "iopub.execute_input": "2024-12-02T14:23:51.210189Z",
          "iopub.status.idle": "2024-12-02T14:23:51.224131Z",
          "shell.execute_reply.started": "2024-12-02T14:23:51.210148Z",
          "shell.execute_reply": "2024-12-02T14:23:51.223176Z"
        }
      },
      "outputs": [],
      "execution_count": null
    },
    {
      "cell_type": "code",
      "source": [
        "model_comparison = pd.DataFrame({\n",
        "    'Model': ['Logistic Regression', 'Decision Tree', 'Random Forest'],\n",
        "    'Accuracy': [LogReg_Accuracy, DTC_Accuracy, RFC_Accuracy],\n",
        "    'Precision': [LogReg_Precision, DTC_Precision, RFC_Precision],\n",
        "    'Recall': [LogReg_Recall, DTC_Recall, RFC_Recall],\n",
        "    'F1-Score': [LogReg_F1, DTC_F1, RFC_F1],\n",
        "    'AUC': [LogReg_auc, DTC_auc, RFC_auc]\n",
        "})"
      ],
      "metadata": {
        "id": "QsyAP8gIz0xW",
        "trusted": true,
        "execution": {
          "iopub.status.busy": "2024-12-02T14:23:51.225287Z",
          "iopub.execute_input": "2024-12-02T14:23:51.225559Z",
          "iopub.status.idle": "2024-12-02T14:23:51.237433Z",
          "shell.execute_reply.started": "2024-12-02T14:23:51.225532Z",
          "shell.execute_reply": "2024-12-02T14:23:51.236518Z"
        }
      },
      "outputs": [],
      "execution_count": null
    },
    {
      "cell_type": "code",
      "source": [
        "model_comparison = model_comparison.sort_values(by='Accuracy', ascending=False)\n",
        "\n",
        "model_comparison"
      ],
      "metadata": {
        "id": "oPwddsabNhTT",
        "trusted": true,
        "execution": {
          "iopub.status.busy": "2024-12-02T14:23:51.238852Z",
          "iopub.execute_input": "2024-12-02T14:23:51.239256Z",
          "iopub.status.idle": "2024-12-02T14:23:51.261889Z",
          "shell.execute_reply.started": "2024-12-02T14:23:51.239212Z",
          "shell.execute_reply": "2024-12-02T14:23:51.260757Z"
        }
      },
      "outputs": [],
      "execution_count": null
    },
    {
      "cell_type": "code",
      "source": [
        "df_test.columns"
      ],
      "metadata": {
        "id": "kTU3EeLahv9I",
        "trusted": true,
        "execution": {
          "iopub.status.busy": "2024-12-02T14:23:51.263258Z",
          "iopub.execute_input": "2024-12-02T14:23:51.263691Z",
          "iopub.status.idle": "2024-12-02T14:23:51.273739Z",
          "shell.execute_reply.started": "2024-12-02T14:23:51.263644Z",
          "shell.execute_reply": "2024-12-02T14:23:51.272836Z"
        }
      },
      "outputs": [],
      "execution_count": null
    },
    {
      "cell_type": "code",
      "source": [
        "df_test = df_test.drop('Loan_Status', axis=1, errors='ignore')\n",
        "\n",
        "feature_columns = [col for col in df_test.columns if col != 'Loan_ID']"
      ],
      "metadata": {
        "id": "suHioto1ljzD",
        "trusted": true,
        "execution": {
          "iopub.status.busy": "2024-12-02T14:23:51.289066Z",
          "iopub.execute_input": "2024-12-02T14:23:51.289379Z",
          "iopub.status.idle": "2024-12-02T14:23:51.300137Z",
          "shell.execute_reply.started": "2024-12-02T14:23:51.289349Z",
          "shell.execute_reply": "2024-12-02T14:23:51.299122Z"
        }
      },
      "outputs": [],
      "execution_count": null
    },
    {
      "cell_type": "code",
      "source": [
        "predictions = best_RFC.predict(df_test[feature_columns])"
      ],
      "metadata": {
        "id": "yq8x5htNlvQg",
        "trusted": true,
        "execution": {
          "iopub.status.busy": "2024-12-02T14:40:03.447156Z",
          "iopub.execute_input": "2024-12-02T14:40:03.44791Z",
          "iopub.status.idle": "2024-12-02T14:40:03.462394Z",
          "shell.execute_reply.started": "2024-12-02T14:40:03.447872Z",
          "shell.execute_reply": "2024-12-02T14:40:03.461313Z"
        }
      },
      "outputs": [],
      "execution_count": null
    },
    {
      "cell_type": "code",
      "source": [
        "output = pd.DataFrame()\n",
        "\n",
        "output['Loan_ID'] = df_test['Loan_ID']\n",
        "output['Loan_Status'] = predictions"
      ],
      "metadata": {
        "id": "BGWsyEDLl0mS",
        "trusted": true,
        "execution": {
          "iopub.status.busy": "2024-12-02T14:40:07.008668Z",
          "iopub.execute_input": "2024-12-02T14:40:07.009535Z",
          "iopub.status.idle": "2024-12-02T14:40:07.015966Z",
          "shell.execute_reply.started": "2024-12-02T14:40:07.009495Z",
          "shell.execute_reply": "2024-12-02T14:40:07.014929Z"
        }
      },
      "outputs": [],
      "execution_count": null
    },
    {
      "cell_type": "code",
      "source": [
        "output"
      ],
      "metadata": {
        "id": "OnF1_KRmmwHL",
        "trusted": true,
        "execution": {
          "iopub.status.busy": "2024-12-02T14:40:13.239848Z",
          "iopub.execute_input": "2024-12-02T14:40:13.240243Z",
          "iopub.status.idle": "2024-12-02T14:40:13.25186Z",
          "shell.execute_reply.started": "2024-12-02T14:40:13.240207Z",
          "shell.execute_reply": "2024-12-02T14:40:13.250758Z"
        }
      },
      "outputs": [],
      "execution_count": null
    },
    {
      "cell_type": "markdown",
      "source": [
        "---\n",
        "\n",
        "\n",
        "### 21.  **Saving Predictions to CSV**"
      ],
      "metadata": {
        "id": "IaWaU4bDm9xa"
      }
    },
    {
      "cell_type": "code",
      "source": [
        "output.to_csv('LoanApproval_predictions.csv', index=False)"
      ],
      "metadata": {
        "id": "2Uq_QlutnAEt",
        "trusted": true,
        "execution": {
          "iopub.status.busy": "2024-12-02T14:40:18.591991Z",
          "iopub.execute_input": "2024-12-02T14:40:18.592355Z",
          "iopub.status.idle": "2024-12-02T14:40:18.599756Z",
          "shell.execute_reply.started": "2024-12-02T14:40:18.592316Z",
          "shell.execute_reply": "2024-12-02T14:40:18.598676Z"
        }
      },
      "outputs": [],
      "execution_count": null
    }
  ]
}